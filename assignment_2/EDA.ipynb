{
 "cells": [
  {
   "cell_type": "code",
   "execution_count": 1,
   "metadata": {},
   "outputs": [],
   "source": [
    "import pandas as pd\n",
    "import numpy as np\n",
    "import statsmodels.api as sm\n",
    "import matplotlib.pyplot as plt\n",
    "import seaborn as sns"
   ]
  },
  {
   "cell_type": "code",
   "execution_count": 244,
   "metadata": {},
   "outputs": [],
   "source": [
    "data_1 = pd.read_stata('ps2q1.dta')\n",
    "data_1 = data_1.sort_values(by=['tot_exp'])"
   ]
  },
  {
   "cell_type": "code",
   "execution_count": 237,
   "metadata": {},
   "outputs": [
    {
     "data": {
      "text/plain": [
       "(100, 7)"
      ]
     },
     "execution_count": 237,
     "metadata": {},
     "output_type": "execute_result"
    }
   ],
   "source": [
    "data_1.shape"
   ]
  },
  {
   "cell_type": "code",
   "execution_count": 288,
   "metadata": {},
   "outputs": [
    {
     "data": {
      "text/plain": [
       "2873.010009765625"
      ]
     },
     "execution_count": 288,
     "metadata": {},
     "output_type": "execute_result"
    }
   ],
   "source": [
    "data_1['tot_exp'].mean()"
   ]
  },
  {
   "cell_type": "code",
   "execution_count": 147,
   "metadata": {},
   "outputs": [
    {
     "data": {
      "text/html": [
       "<div>\n",
       "<style scoped>\n",
       "    .dataframe tbody tr th:only-of-type {\n",
       "        vertical-align: middle;\n",
       "    }\n",
       "\n",
       "    .dataframe tbody tr th {\n",
       "        vertical-align: top;\n",
       "    }\n",
       "\n",
       "    .dataframe thead th {\n",
       "        text-align: right;\n",
       "    }\n",
       "</style>\n",
       "<table border=\"1\" class=\"dataframe\">\n",
       "  <thead>\n",
       "    <tr style=\"text-align: right;\">\n",
       "      <th></th>\n",
       "      <th>tot_exp</th>\n",
       "      <th>food_exp</th>\n",
       "      <th>hous_exp</th>\n",
       "      <th>n_adult</th>\n",
       "      <th>n_child</th>\n",
       "      <th>hhsize</th>\n",
       "      <th>pce</th>\n",
       "    </tr>\n",
       "  </thead>\n",
       "  <tbody>\n",
       "    <tr>\n",
       "      <th>count</th>\n",
       "      <td>100.00000</td>\n",
       "      <td>100.000000</td>\n",
       "      <td>100.000000</td>\n",
       "      <td>100.000000</td>\n",
       "      <td>100.000000</td>\n",
       "      <td>100.000000</td>\n",
       "      <td>100.000000</td>\n",
       "    </tr>\n",
       "    <tr>\n",
       "      <th>mean</th>\n",
       "      <td>2873.01001</td>\n",
       "      <td>1267.729980</td>\n",
       "      <td>167.000000</td>\n",
       "      <td>3.480000</td>\n",
       "      <td>2.020000</td>\n",
       "      <td>5.500000</td>\n",
       "      <td>637.224609</td>\n",
       "    </tr>\n",
       "    <tr>\n",
       "      <th>std</th>\n",
       "      <td>2195.00708</td>\n",
       "      <td>662.651428</td>\n",
       "      <td>385.580353</td>\n",
       "      <td>1.888187</td>\n",
       "      <td>1.792127</td>\n",
       "      <td>2.743219</td>\n",
       "      <td>618.046692</td>\n",
       "    </tr>\n",
       "    <tr>\n",
       "      <th>min</th>\n",
       "      <td>317.00000</td>\n",
       "      <td>188.000000</td>\n",
       "      <td>0.000000</td>\n",
       "      <td>1.000000</td>\n",
       "      <td>0.000000</td>\n",
       "      <td>1.000000</td>\n",
       "      <td>155.444443</td>\n",
       "    </tr>\n",
       "    <tr>\n",
       "      <th>25%</th>\n",
       "      <td>1542.25000</td>\n",
       "      <td>791.500000</td>\n",
       "      <td>0.000000</td>\n",
       "      <td>2.000000</td>\n",
       "      <td>1.000000</td>\n",
       "      <td>4.000000</td>\n",
       "      <td>306.875008</td>\n",
       "    </tr>\n",
       "    <tr>\n",
       "      <th>50%</th>\n",
       "      <td>2252.00000</td>\n",
       "      <td>1118.500000</td>\n",
       "      <td>12.500000</td>\n",
       "      <td>3.000000</td>\n",
       "      <td>2.000000</td>\n",
       "      <td>5.000000</td>\n",
       "      <td>470.712494</td>\n",
       "    </tr>\n",
       "    <tr>\n",
       "      <th>75%</th>\n",
       "      <td>3339.25000</td>\n",
       "      <td>1573.500000</td>\n",
       "      <td>200.000000</td>\n",
       "      <td>5.000000</td>\n",
       "      <td>3.000000</td>\n",
       "      <td>7.000000</td>\n",
       "      <td>691.750000</td>\n",
       "    </tr>\n",
       "    <tr>\n",
       "      <th>max</th>\n",
       "      <td>13613.00000</td>\n",
       "      <td>3656.000000</td>\n",
       "      <td>3000.000000</td>\n",
       "      <td>9.000000</td>\n",
       "      <td>7.000000</td>\n",
       "      <td>13.000000</td>\n",
       "      <td>4514.000000</td>\n",
       "    </tr>\n",
       "  </tbody>\n",
       "</table>\n",
       "</div>"
      ],
      "text/plain": [
       "           tot_exp     food_exp     hous_exp     n_adult     n_child  \\\n",
       "count    100.00000   100.000000   100.000000  100.000000  100.000000   \n",
       "mean    2873.01001  1267.729980   167.000000    3.480000    2.020000   \n",
       "std     2195.00708   662.651428   385.580353    1.888187    1.792127   \n",
       "min      317.00000   188.000000     0.000000    1.000000    0.000000   \n",
       "25%     1542.25000   791.500000     0.000000    2.000000    1.000000   \n",
       "50%     2252.00000  1118.500000    12.500000    3.000000    2.000000   \n",
       "75%     3339.25000  1573.500000   200.000000    5.000000    3.000000   \n",
       "max    13613.00000  3656.000000  3000.000000    9.000000    7.000000   \n",
       "\n",
       "           hhsize          pce  \n",
       "count  100.000000   100.000000  \n",
       "mean     5.500000   637.224609  \n",
       "std      2.743219   618.046692  \n",
       "min      1.000000   155.444443  \n",
       "25%      4.000000   306.875008  \n",
       "50%      5.000000   470.712494  \n",
       "75%      7.000000   691.750000  \n",
       "max     13.000000  4514.000000  "
      ]
     },
     "execution_count": 147,
     "metadata": {},
     "output_type": "execute_result"
    }
   ],
   "source": [
    "data_1.describe()"
   ]
  },
  {
   "cell_type": "code",
   "execution_count": 3,
   "metadata": {},
   "outputs": [
    {
     "data": {
      "text/html": [
       "<div>\n",
       "<style scoped>\n",
       "    .dataframe tbody tr th:only-of-type {\n",
       "        vertical-align: middle;\n",
       "    }\n",
       "\n",
       "    .dataframe tbody tr th {\n",
       "        vertical-align: top;\n",
       "    }\n",
       "\n",
       "    .dataframe thead th {\n",
       "        text-align: right;\n",
       "    }\n",
       "</style>\n",
       "<table border=\"1\" class=\"dataframe\">\n",
       "  <thead>\n",
       "    <tr style=\"text-align: right;\">\n",
       "      <th></th>\n",
       "      <th>tot_exp</th>\n",
       "      <th>food_exp</th>\n",
       "      <th>hous_exp</th>\n",
       "      <th>n_adult</th>\n",
       "      <th>n_child</th>\n",
       "      <th>hhsize</th>\n",
       "      <th>pce</th>\n",
       "    </tr>\n",
       "  </thead>\n",
       "  <tbody>\n",
       "    <tr>\n",
       "      <th>0</th>\n",
       "      <td>1123.0</td>\n",
       "      <td>824.0</td>\n",
       "      <td>0.0</td>\n",
       "      <td>3.0</td>\n",
       "      <td>2.0</td>\n",
       "      <td>5.0</td>\n",
       "      <td>224.600006</td>\n",
       "    </tr>\n",
       "    <tr>\n",
       "      <th>1</th>\n",
       "      <td>12208.0</td>\n",
       "      <td>2455.0</td>\n",
       "      <td>3000.0</td>\n",
       "      <td>5.0</td>\n",
       "      <td>1.0</td>\n",
       "      <td>6.0</td>\n",
       "      <td>2034.666626</td>\n",
       "    </tr>\n",
       "    <tr>\n",
       "      <th>2</th>\n",
       "      <td>1194.0</td>\n",
       "      <td>645.0</td>\n",
       "      <td>0.0</td>\n",
       "      <td>3.0</td>\n",
       "      <td>2.0</td>\n",
       "      <td>5.0</td>\n",
       "      <td>238.800003</td>\n",
       "    </tr>\n",
       "    <tr>\n",
       "      <th>3</th>\n",
       "      <td>2755.0</td>\n",
       "      <td>1476.0</td>\n",
       "      <td>200.0</td>\n",
       "      <td>2.0</td>\n",
       "      <td>3.0</td>\n",
       "      <td>5.0</td>\n",
       "      <td>551.000000</td>\n",
       "    </tr>\n",
       "    <tr>\n",
       "      <th>4</th>\n",
       "      <td>2174.0</td>\n",
       "      <td>1350.0</td>\n",
       "      <td>280.0</td>\n",
       "      <td>3.0</td>\n",
       "      <td>1.0</td>\n",
       "      <td>4.0</td>\n",
       "      <td>543.500000</td>\n",
       "    </tr>\n",
       "  </tbody>\n",
       "</table>\n",
       "</div>"
      ],
      "text/plain": [
       "   tot_exp  food_exp  hous_exp  n_adult  n_child  hhsize          pce\n",
       "0   1123.0     824.0       0.0      3.0      2.0     5.0   224.600006\n",
       "1  12208.0    2455.0    3000.0      5.0      1.0     6.0  2034.666626\n",
       "2   1194.0     645.0       0.0      3.0      2.0     5.0   238.800003\n",
       "3   2755.0    1476.0     200.0      2.0      3.0     5.0   551.000000\n",
       "4   2174.0    1350.0     280.0      3.0      1.0     4.0   543.500000"
      ]
     },
     "execution_count": 3,
     "metadata": {},
     "output_type": "execute_result"
    }
   ],
   "source": [
    "data_1.head()"
   ]
  },
  {
   "cell_type": "code",
   "execution_count": 9,
   "metadata": {},
   "outputs": [
    {
     "data": {
      "text/html": [
       "<style  type=\"text/css\" >\n",
       "    #T_56889370_ba1e_11e8_9e17_c4b30193f842row0_col0 {\n",
       "            background-color:  #023858;\n",
       "        }    #T_56889370_ba1e_11e8_9e17_c4b30193f842row0_col1 {\n",
       "            background-color:  #0570b0;\n",
       "        }    #T_56889370_ba1e_11e8_9e17_c4b30193f842row0_col2 {\n",
       "            background-color:  #93b5d6;\n",
       "        }    #T_56889370_ba1e_11e8_9e17_c4b30193f842row0_col3 {\n",
       "            background-color:  #62a2cb;\n",
       "        }    #T_56889370_ba1e_11e8_9e17_c4b30193f842row0_col4 {\n",
       "            background-color:  #c9cee4;\n",
       "        }    #T_56889370_ba1e_11e8_9e17_c4b30193f842row0_col5 {\n",
       "            background-color:  #76aad0;\n",
       "        }    #T_56889370_ba1e_11e8_9e17_c4b30193f842row0_col6 {\n",
       "            background-color:  #2d8abd;\n",
       "        }    #T_56889370_ba1e_11e8_9e17_c4b30193f842row1_col0 {\n",
       "            background-color:  #056aa6;\n",
       "        }    #T_56889370_ba1e_11e8_9e17_c4b30193f842row1_col1 {\n",
       "            background-color:  #023858;\n",
       "        }    #T_56889370_ba1e_11e8_9e17_c4b30193f842row1_col2 {\n",
       "            background-color:  #d0d1e6;\n",
       "        }    #T_56889370_ba1e_11e8_9e17_c4b30193f842row1_col3 {\n",
       "            background-color:  #4496c3;\n",
       "        }    #T_56889370_ba1e_11e8_9e17_c4b30193f842row1_col4 {\n",
       "            background-color:  #a5bddb;\n",
       "        }    #T_56889370_ba1e_11e8_9e17_c4b30193f842row1_col5 {\n",
       "            background-color:  #4295c3;\n",
       "        }    #T_56889370_ba1e_11e8_9e17_c4b30193f842row1_col6 {\n",
       "            background-color:  #5ea0ca;\n",
       "        }    #T_56889370_ba1e_11e8_9e17_c4b30193f842row2_col0 {\n",
       "            background-color:  #a2bcda;\n",
       "        }    #T_56889370_ba1e_11e8_9e17_c4b30193f842row2_col1 {\n",
       "            background-color:  #f5eff6;\n",
       "        }    #T_56889370_ba1e_11e8_9e17_c4b30193f842row2_col2 {\n",
       "            background-color:  #023858;\n",
       "        }    #T_56889370_ba1e_11e8_9e17_c4b30193f842row2_col3 {\n",
       "            background-color:  #e4e1ef;\n",
       "        }    #T_56889370_ba1e_11e8_9e17_c4b30193f842row2_col4 {\n",
       "            background-color:  #d7d6e9;\n",
       "        }    #T_56889370_ba1e_11e8_9e17_c4b30193f842row2_col5 {\n",
       "            background-color:  #d2d3e7;\n",
       "        }    #T_56889370_ba1e_11e8_9e17_c4b30193f842row2_col6 {\n",
       "            background-color:  #7eadd1;\n",
       "        }    #T_56889370_ba1e_11e8_9e17_c4b30193f842row3_col0 {\n",
       "            background-color:  #80aed2;\n",
       "        }    #T_56889370_ba1e_11e8_9e17_c4b30193f842row3_col1 {\n",
       "            background-color:  #83afd3;\n",
       "        }    #T_56889370_ba1e_11e8_9e17_c4b30193f842row3_col2 {\n",
       "            background-color:  #f0eaf4;\n",
       "        }    #T_56889370_ba1e_11e8_9e17_c4b30193f842row3_col3 {\n",
       "            background-color:  #023858;\n",
       "        }    #T_56889370_ba1e_11e8_9e17_c4b30193f842row3_col4 {\n",
       "            background-color:  #a9bfdc;\n",
       "        }    #T_56889370_ba1e_11e8_9e17_c4b30193f842row3_col5 {\n",
       "            background-color:  #04629a;\n",
       "        }    #T_56889370_ba1e_11e8_9e17_c4b30193f842row3_col6 {\n",
       "            background-color:  #e3e0ee;\n",
       "        }    #T_56889370_ba1e_11e8_9e17_c4b30193f842row4_col0 {\n",
       "            background-color:  #fff7fb;\n",
       "        }    #T_56889370_ba1e_11e8_9e17_c4b30193f842row4_col1 {\n",
       "            background-color:  #fff7fb;\n",
       "        }    #T_56889370_ba1e_11e8_9e17_c4b30193f842row4_col2 {\n",
       "            background-color:  #fff7fb;\n",
       "        }    #T_56889370_ba1e_11e8_9e17_c4b30193f842row4_col3 {\n",
       "            background-color:  #d3d4e7;\n",
       "        }    #T_56889370_ba1e_11e8_9e17_c4b30193f842row4_col4 {\n",
       "            background-color:  #023858;\n",
       "        }    #T_56889370_ba1e_11e8_9e17_c4b30193f842row4_col5 {\n",
       "            background-color:  #0567a1;\n",
       "        }    #T_56889370_ba1e_11e8_9e17_c4b30193f842row4_col6 {\n",
       "            background-color:  #fff7fb;\n",
       "        }    #T_56889370_ba1e_11e8_9e17_c4b30193f842row5_col0 {\n",
       "            background-color:  #b9c6e0;\n",
       "        }    #T_56889370_ba1e_11e8_9e17_c4b30193f842row5_col1 {\n",
       "            background-color:  #a8bedc;\n",
       "        }    #T_56889370_ba1e_11e8_9e17_c4b30193f842row5_col2 {\n",
       "            background-color:  #f9f2f8;\n",
       "        }    #T_56889370_ba1e_11e8_9e17_c4b30193f842row5_col3 {\n",
       "            background-color:  #0568a3;\n",
       "        }    #T_56889370_ba1e_11e8_9e17_c4b30193f842row5_col4 {\n",
       "            background-color:  #0566a0;\n",
       "        }    #T_56889370_ba1e_11e8_9e17_c4b30193f842row5_col5 {\n",
       "            background-color:  #023858;\n",
       "        }    #T_56889370_ba1e_11e8_9e17_c4b30193f842row5_col6 {\n",
       "            background-color:  #fdf5fa;\n",
       "        }    #T_56889370_ba1e_11e8_9e17_c4b30193f842row6_col0 {\n",
       "            background-color:  #6ba5cd;\n",
       "        }    #T_56889370_ba1e_11e8_9e17_c4b30193f842row6_col1 {\n",
       "            background-color:  #c9cee4;\n",
       "        }    #T_56889370_ba1e_11e8_9e17_c4b30193f842row6_col2 {\n",
       "            background-color:  #b7c5df;\n",
       "        }    #T_56889370_ba1e_11e8_9e17_c4b30193f842row6_col3 {\n",
       "            background-color:  #fff7fb;\n",
       "        }    #T_56889370_ba1e_11e8_9e17_c4b30193f842row6_col4 {\n",
       "            background-color:  #fff7fb;\n",
       "        }    #T_56889370_ba1e_11e8_9e17_c4b30193f842row6_col5 {\n",
       "            background-color:  #fff7fb;\n",
       "        }    #T_56889370_ba1e_11e8_9e17_c4b30193f842row6_col6 {\n",
       "            background-color:  #023858;\n",
       "        }</style>  \n",
       "<table id=\"T_56889370_ba1e_11e8_9e17_c4b30193f842\" > \n",
       "<thead>    <tr> \n",
       "        <th class=\"blank level0\" ></th> \n",
       "        <th class=\"col_heading level0 col0\" >tot_exp</th> \n",
       "        <th class=\"col_heading level0 col1\" >food_exp</th> \n",
       "        <th class=\"col_heading level0 col2\" >hous_exp</th> \n",
       "        <th class=\"col_heading level0 col3\" >n_adult</th> \n",
       "        <th class=\"col_heading level0 col4\" >n_child</th> \n",
       "        <th class=\"col_heading level0 col5\" >hhsize</th> \n",
       "        <th class=\"col_heading level0 col6\" >pce</th> \n",
       "    </tr></thead> \n",
       "<tbody>    <tr> \n",
       "        <th id=\"T_56889370_ba1e_11e8_9e17_c4b30193f842level0_row0\" class=\"row_heading level0 row0\" >tot_exp</th> \n",
       "        <td id=\"T_56889370_ba1e_11e8_9e17_c4b30193f842row0_col0\" class=\"data row0 col0\" >1</td> \n",
       "        <td id=\"T_56889370_ba1e_11e8_9e17_c4b30193f842row0_col1\" class=\"data row0 col1\" >0.78</td> \n",
       "        <td id=\"T_56889370_ba1e_11e8_9e17_c4b30193f842row0_col2\" class=\"data row0 col2\" >0.37</td> \n",
       "        <td id=\"T_56889370_ba1e_11e8_9e17_c4b30193f842row0_col3\" class=\"data row0 col3\" >0.46</td> \n",
       "        <td id=\"T_56889370_ba1e_11e8_9e17_c4b30193f842row0_col4\" class=\"data row0 col4\" >-0.021</td> \n",
       "        <td id=\"T_56889370_ba1e_11e8_9e17_c4b30193f842row0_col5\" class=\"data row0 col5\" >0.3</td> \n",
       "        <td id=\"T_56889370_ba1e_11e8_9e17_c4b30193f842row0_col6\" class=\"data row0 col6\" >0.51</td> \n",
       "    </tr>    <tr> \n",
       "        <th id=\"T_56889370_ba1e_11e8_9e17_c4b30193f842level0_row1\" class=\"row_heading level0 row1\" >food_exp</th> \n",
       "        <td id=\"T_56889370_ba1e_11e8_9e17_c4b30193f842row1_col0\" class=\"data row1 col0\" >0.78</td> \n",
       "        <td id=\"T_56889370_ba1e_11e8_9e17_c4b30193f842row1_col1\" class=\"data row1 col1\" >1</td> \n",
       "        <td id=\"T_56889370_ba1e_11e8_9e17_c4b30193f842row1_col2\" class=\"data row1 col2\" >0.18</td> \n",
       "        <td id=\"T_56889370_ba1e_11e8_9e17_c4b30193f842row1_col3\" class=\"data row1 col3\" >0.53</td> \n",
       "        <td id=\"T_56889370_ba1e_11e8_9e17_c4b30193f842row1_col4\" class=\"data row1 col4\" >0.13</td> \n",
       "        <td id=\"T_56889370_ba1e_11e8_9e17_c4b30193f842row1_col5\" class=\"data row1 col5\" >0.45</td> \n",
       "        <td id=\"T_56889370_ba1e_11e8_9e17_c4b30193f842row1_col6\" class=\"data row1 col6\" >0.36</td> \n",
       "    </tr>    <tr> \n",
       "        <th id=\"T_56889370_ba1e_11e8_9e17_c4b30193f842level0_row2\" class=\"row_heading level0 row2\" >hous_exp</th> \n",
       "        <td id=\"T_56889370_ba1e_11e8_9e17_c4b30193f842row2_col0\" class=\"data row2 col0\" >0.37</td> \n",
       "        <td id=\"T_56889370_ba1e_11e8_9e17_c4b30193f842row2_col1\" class=\"data row2 col1\" >0.18</td> \n",
       "        <td id=\"T_56889370_ba1e_11e8_9e17_c4b30193f842row2_col2\" class=\"data row2 col2\" >1</td> \n",
       "        <td id=\"T_56889370_ba1e_11e8_9e17_c4b30193f842row2_col3\" class=\"data row2 col3\" >0.022</td> \n",
       "        <td id=\"T_56889370_ba1e_11e8_9e17_c4b30193f842row2_col4\" class=\"data row2 col4\" >-0.09</td> \n",
       "        <td id=\"T_56889370_ba1e_11e8_9e17_c4b30193f842row2_col5\" class=\"data row2 col5\" >-0.043</td> \n",
       "        <td id=\"T_56889370_ba1e_11e8_9e17_c4b30193f842row2_col6\" class=\"data row2 col6\" >0.26</td> \n",
       "    </tr>    <tr> \n",
       "        <th id=\"T_56889370_ba1e_11e8_9e17_c4b30193f842level0_row3\" class=\"row_heading level0 row3\" >n_adult</th> \n",
       "        <td id=\"T_56889370_ba1e_11e8_9e17_c4b30193f842row3_col0\" class=\"data row3 col0\" >0.46</td> \n",
       "        <td id=\"T_56889370_ba1e_11e8_9e17_c4b30193f842row3_col1\" class=\"data row3 col1\" >0.53</td> \n",
       "        <td id=\"T_56889370_ba1e_11e8_9e17_c4b30193f842row3_col2\" class=\"data row3 col2\" >0.022</td> \n",
       "        <td id=\"T_56889370_ba1e_11e8_9e17_c4b30193f842row3_col3\" class=\"data row3 col3\" >1</td> \n",
       "        <td id=\"T_56889370_ba1e_11e8_9e17_c4b30193f842row3_col4\" class=\"data row3 col4\" >0.11</td> \n",
       "        <td id=\"T_56889370_ba1e_11e8_9e17_c4b30193f842row3_col5\" class=\"data row3 col5\" >0.76</td> \n",
       "        <td id=\"T_56889370_ba1e_11e8_9e17_c4b30193f842row3_col6\" class=\"data row3 col6\" >-0.17</td> \n",
       "    </tr>    <tr> \n",
       "        <th id=\"T_56889370_ba1e_11e8_9e17_c4b30193f842level0_row4\" class=\"row_heading level0 row4\" >n_child</th> \n",
       "        <td id=\"T_56889370_ba1e_11e8_9e17_c4b30193f842row4_col0\" class=\"data row4 col0\" >-0.021</td> \n",
       "        <td id=\"T_56889370_ba1e_11e8_9e17_c4b30193f842row4_col1\" class=\"data row4 col1\" >0.13</td> \n",
       "        <td id=\"T_56889370_ba1e_11e8_9e17_c4b30193f842row4_col2\" class=\"data row4 col2\" >-0.09</td> \n",
       "        <td id=\"T_56889370_ba1e_11e8_9e17_c4b30193f842row4_col3\" class=\"data row4 col3\" >0.11</td> \n",
       "        <td id=\"T_56889370_ba1e_11e8_9e17_c4b30193f842row4_col4\" class=\"data row4 col4\" >1</td> \n",
       "        <td id=\"T_56889370_ba1e_11e8_9e17_c4b30193f842row4_col5\" class=\"data row4 col5\" >0.73</td> \n",
       "        <td id=\"T_56889370_ba1e_11e8_9e17_c4b30193f842row4_col6\" class=\"data row4 col6\" >-0.4</td> \n",
       "    </tr>    <tr> \n",
       "        <th id=\"T_56889370_ba1e_11e8_9e17_c4b30193f842level0_row5\" class=\"row_heading level0 row5\" >hhsize</th> \n",
       "        <td id=\"T_56889370_ba1e_11e8_9e17_c4b30193f842row5_col0\" class=\"data row5 col0\" >0.3</td> \n",
       "        <td id=\"T_56889370_ba1e_11e8_9e17_c4b30193f842row5_col1\" class=\"data row5 col1\" >0.45</td> \n",
       "        <td id=\"T_56889370_ba1e_11e8_9e17_c4b30193f842row5_col2\" class=\"data row5 col2\" >-0.043</td> \n",
       "        <td id=\"T_56889370_ba1e_11e8_9e17_c4b30193f842row5_col3\" class=\"data row5 col3\" >0.76</td> \n",
       "        <td id=\"T_56889370_ba1e_11e8_9e17_c4b30193f842row5_col4\" class=\"data row5 col4\" >0.73</td> \n",
       "        <td id=\"T_56889370_ba1e_11e8_9e17_c4b30193f842row5_col5\" class=\"data row5 col5\" >1</td> \n",
       "        <td id=\"T_56889370_ba1e_11e8_9e17_c4b30193f842row5_col6\" class=\"data row5 col6\" >-0.38</td> \n",
       "    </tr>    <tr> \n",
       "        <th id=\"T_56889370_ba1e_11e8_9e17_c4b30193f842level0_row6\" class=\"row_heading level0 row6\" >pce</th> \n",
       "        <td id=\"T_56889370_ba1e_11e8_9e17_c4b30193f842row6_col0\" class=\"data row6 col0\" >0.51</td> \n",
       "        <td id=\"T_56889370_ba1e_11e8_9e17_c4b30193f842row6_col1\" class=\"data row6 col1\" >0.36</td> \n",
       "        <td id=\"T_56889370_ba1e_11e8_9e17_c4b30193f842row6_col2\" class=\"data row6 col2\" >0.26</td> \n",
       "        <td id=\"T_56889370_ba1e_11e8_9e17_c4b30193f842row6_col3\" class=\"data row6 col3\" >-0.17</td> \n",
       "        <td id=\"T_56889370_ba1e_11e8_9e17_c4b30193f842row6_col4\" class=\"data row6 col4\" >-0.4</td> \n",
       "        <td id=\"T_56889370_ba1e_11e8_9e17_c4b30193f842row6_col5\" class=\"data row6 col5\" >-0.38</td> \n",
       "        <td id=\"T_56889370_ba1e_11e8_9e17_c4b30193f842row6_col6\" class=\"data row6 col6\" >1</td> \n",
       "    </tr></tbody> \n",
       "</table> "
      ],
      "text/plain": [
       "<pandas.io.formats.style.Styler at 0x1c18ceb7f0>"
      ]
     },
     "execution_count": 9,
     "metadata": {},
     "output_type": "execute_result"
    },
    {
     "data": {
      "text/plain": [
       "<Figure size 864x720 with 0 Axes>"
      ]
     },
     "metadata": {},
     "output_type": "display_data"
    }
   ],
   "source": [
    "plt.figure(figsize=(12,10))\n",
    "import seaborn as sns\n",
    "corr = data_1.corr()\n",
    "correlation_matrix = corr.style.background_gradient().set_precision(2)\n",
    "correlation_matrix"
   ]
  },
  {
   "cell_type": "code",
   "execution_count": 270,
   "metadata": {},
   "outputs": [
    {
     "data": {
      "text/html": [
       "<table class=\"simpletable\">\n",
       "<caption>OLS Regression Results</caption>\n",
       "<tr>\n",
       "  <th>Dep. Variable:</th>        <td>food_exp</td>     <th>  R-squared:         </th> <td>   0.609</td>\n",
       "</tr>\n",
       "<tr>\n",
       "  <th>Model:</th>                   <td>OLS</td>       <th>  Adj. R-squared:    </th> <td>   0.605</td>\n",
       "</tr>\n",
       "<tr>\n",
       "  <th>Method:</th>             <td>Least Squares</td>  <th>  F-statistic:       </th> <td>   152.6</td>\n",
       "</tr>\n",
       "<tr>\n",
       "  <th>Date:</th>             <td>Sun, 23 Sep 2018</td> <th>  Prob (F-statistic):</th> <td>1.07e-21</td>\n",
       "</tr>\n",
       "<tr>\n",
       "  <th>Time:</th>                 <td>20:20:50</td>     <th>  Log-Likelihood:    </th> <td> -744.07</td>\n",
       "</tr>\n",
       "<tr>\n",
       "  <th>No. Observations:</th>      <td>   100</td>      <th>  AIC:               </th> <td>   1492.</td>\n",
       "</tr>\n",
       "<tr>\n",
       "  <th>Df Residuals:</th>          <td>    98</td>      <th>  BIC:               </th> <td>   1497.</td>\n",
       "</tr>\n",
       "<tr>\n",
       "  <th>Df Model:</th>              <td>     1</td>      <th>                     </th>     <td> </td>   \n",
       "</tr>\n",
       "<tr>\n",
       "  <th>Covariance Type:</th>      <td>nonrobust</td>    <th>                     </th>     <td> </td>   \n",
       "</tr>\n",
       "</table>\n",
       "<table class=\"simpletable\">\n",
       "<tr>\n",
       "     <td></td>        <th>coef</th>     <th>std err</th>      <th>t</th>      <th>P>|t|</th>  <th>[0.025</th>    <th>0.975]</th>  \n",
       "</tr>\n",
       "<tr>\n",
       "  <th>const</th>   <td>  590.9059</td> <td>   68.822</td> <td>    8.586</td> <td> 0.000</td> <td>  454.331</td> <td>  727.481</td>\n",
       "</tr>\n",
       "<tr>\n",
       "  <th>tot_exp</th> <td>    0.2356</td> <td>    0.019</td> <td>   12.353</td> <td> 0.000</td> <td>    0.198</td> <td>    0.273</td>\n",
       "</tr>\n",
       "</table>\n",
       "<table class=\"simpletable\">\n",
       "<tr>\n",
       "  <th>Omnibus:</th>       <td>12.035</td> <th>  Durbin-Watson:     </th> <td>   1.955</td>\n",
       "</tr>\n",
       "<tr>\n",
       "  <th>Prob(Omnibus):</th> <td> 0.002</td> <th>  Jarque-Bera (JB):  </th> <td>  21.512</td>\n",
       "</tr>\n",
       "<tr>\n",
       "  <th>Skew:</th>          <td> 0.455</td> <th>  Prob(JB):          </th> <td>2.13e-05</td>\n",
       "</tr>\n",
       "<tr>\n",
       "  <th>Kurtosis:</th>      <td> 5.082</td> <th>  Cond. No.          </th> <td>5.96e+03</td>\n",
       "</tr>\n",
       "</table><br/><br/>Warnings:<br/>[1] Standard Errors assume that the covariance matrix of the errors is correctly specified.<br/>[2] The condition number is large, 5.96e+03. This might indicate that there are<br/>strong multicollinearity or other numerical problems."
      ],
      "text/plain": [
       "<class 'statsmodels.iolib.summary.Summary'>\n",
       "\"\"\"\n",
       "                            OLS Regression Results                            \n",
       "==============================================================================\n",
       "Dep. Variable:               food_exp   R-squared:                       0.609\n",
       "Model:                            OLS   Adj. R-squared:                  0.605\n",
       "Method:                 Least Squares   F-statistic:                     152.6\n",
       "Date:                Sun, 23 Sep 2018   Prob (F-statistic):           1.07e-21\n",
       "Time:                        20:20:50   Log-Likelihood:                -744.07\n",
       "No. Observations:                 100   AIC:                             1492.\n",
       "Df Residuals:                      98   BIC:                             1497.\n",
       "Df Model:                           1                                         \n",
       "Covariance Type:            nonrobust                                         \n",
       "==============================================================================\n",
       "                 coef    std err          t      P>|t|      [0.025      0.975]\n",
       "------------------------------------------------------------------------------\n",
       "const        590.9059     68.822      8.586      0.000     454.331     727.481\n",
       "tot_exp        0.2356      0.019     12.353      0.000       0.198       0.273\n",
       "==============================================================================\n",
       "Omnibus:                       12.035   Durbin-Watson:                   1.955\n",
       "Prob(Omnibus):                  0.002   Jarque-Bera (JB):               21.512\n",
       "Skew:                           0.455   Prob(JB):                     2.13e-05\n",
       "Kurtosis:                       5.082   Cond. No.                     5.96e+03\n",
       "==============================================================================\n",
       "\n",
       "Warnings:\n",
       "[1] Standard Errors assume that the covariance matrix of the errors is correctly specified.\n",
       "[2] The condition number is large, 5.96e+03. This might indicate that there are\n",
       "strong multicollinearity or other numerical problems.\n",
       "\"\"\""
      ]
     },
     "execution_count": 270,
     "metadata": {},
     "output_type": "execute_result"
    }
   ],
   "source": [
    "# Getting estimates of regression food_exp = a0 + a1*tot_exp + ui\n",
    "\n",
    "Y = data_1['food_exp']\n",
    "X = data_1['tot_exp']\n",
    "X = sm.add_constant(X)\n",
    "\n",
    "model = sm.OLS(Y,X)\n",
    "results = model.fit()\n",
    "\n",
    "results.params\n",
    "\n",
    "model = sm.OLS(Y, X).fit()\n",
    "predictions = model.predict(X)\n",
    "model.summary()"
   ]
  },
  {
   "cell_type": "code",
   "execution_count": 276,
   "metadata": {},
   "outputs": [
    {
     "data": {
      "text/plain": [
       "43471575.526592255"
      ]
     },
     "execution_count": 276,
     "metadata": {},
     "output_type": "execute_result"
    }
   ],
   "source": [
    "sum((data_1['food_exp']-data_1['food_exp'].mean())**2)"
   ]
  },
  {
   "cell_type": "code",
   "execution_count": 245,
   "metadata": {},
   "outputs": [
    {
     "data": {
      "text/plain": [
       "Text(0.5,0,'Total Expenditure')"
      ]
     },
     "execution_count": 245,
     "metadata": {},
     "output_type": "execute_result"
    },
    {
     "data": {
      "image/png": "[encoded data removed]",
      "text/plain": [
       "<Figure size 432x288 with 1 Axes>"
      ]
     },
     "metadata": {},
     "output_type": "display_data"
    }
   ],
   "source": [
    "plt.scatter(data_1['tot_exp'],data_1['food_exp'])\n",
    "plt.plot(X, X*0.235580 + 590.905901, 'r')\n",
    "plt.ylabel('Food Expenditure')\n",
    "plt.xlabel('Total Expenditure')"
   ]
  },
  {
   "cell_type": "code",
   "execution_count": 6,
   "metadata": {},
   "outputs": [
    {
     "data": {
      "text/plain": [
       "<matplotlib.axes._subplots.AxesSubplot at 0x10dbcfba8>"
      ]
     },
     "execution_count": 6,
     "metadata": {},
     "output_type": "execute_result"
    },
    {
     "data": {
      "image/png": "[encoded data removed]",
      "text/plain": [
       "<Figure size 432x288 with 1 Axes>"
      ]
     },
     "metadata": {},
     "output_type": "display_data"
    }
   ],
   "source": [
    "sns.residplot(data_1['tot_exp'], data_1['food_exp'], lowess=False, color=\"b\")"
   ]
  },
  {
   "cell_type": "code",
   "execution_count": 12,
   "metadata": {},
   "outputs": [
    {
     "data": {
      "text/plain": [
       "Text(0.5,0,'Total Expenditure')"
      ]
     },
     "execution_count": 12,
     "metadata": {},
     "output_type": "execute_result"
    },
    {
     "data": {
      "image/png": "[encoded data removed]",
      "text/plain": [
       "<Figure size 432x288 with 1 Axes>"
      ]
     },
     "metadata": {},
     "output_type": "display_data"
    }
   ],
   "source": [
    "plt.scatter(data_1['tot_exp'],data_1['food_exp'])\n",
    "plt.plot(X, X*0.235580 + 590.905901, 'r')\n",
    "plt.axvline(1542.25, c='g')\n",
    "plt.axvline(3339.25, c='g')\n",
    "\n",
    "plt.ylabel('Food Expenditure')\n",
    "plt.xlabel('Total Expenditure')"
   ]
  },
  {
   "cell_type": "code",
   "execution_count": 22,
   "metadata": {},
   "outputs": [
    {
     "data": {
      "text/plain": [
       "439106.90625"
      ]
     },
     "execution_count": 22,
     "metadata": {},
     "output_type": "execute_result"
    }
   ],
   "source": [
    "data_1['food_exp'].var()"
   ]
  },
  {
   "cell_type": "code",
   "execution_count": 295,
   "metadata": {},
   "outputs": [
    {
     "data": {
      "text/plain": [
       "array([[1.      , 0.729397],\n",
       "       [0.729397, 1.      ]])"
      ]
     },
     "execution_count": 295,
     "metadata": {},
     "output_type": "execute_result"
    }
   ],
   "source": [
    "np.corrcoef(data_1['n_child'],data_1['hhsize'])"
   ]
  },
  {
   "cell_type": "code",
   "execution_count": null,
   "metadata": {},
   "outputs": [],
   "source": []
  },
  {
   "cell_type": "code",
   "execution_count": null,
   "metadata": {},
   "outputs": [],
   "source": []
  },
  {
   "cell_type": "code",
   "execution_count": null,
   "metadata": {},
   "outputs": [],
   "source": []
  },
  {
   "cell_type": "code",
   "execution_count": null,
   "metadata": {},
   "outputs": [],
   "source": []
  },
  {
   "cell_type": "code",
   "execution_count": null,
   "metadata": {},
   "outputs": [],
   "source": []
  },
  {
   "cell_type": "code",
   "execution_count": 8,
   "metadata": {},
   "outputs": [
    {
     "data": {
      "text/plain": [
       "972.0"
      ]
     },
     "execution_count": 8,
     "metadata": {},
     "output_type": "execute_result"
    }
   ],
   "source": [
    "# 25th & 75th percentile food expenditure val\n",
    "\n",
    "data_1.loc[(data_1['tot_exp']>1499.0) & (data_1['tot_exp']< 1551.0),'food_exp'].mean()\n",
    "data_1.loc[(data_1['tot_exp']>3299.0) & (data_1['tot_exp']< 3351.0),'food_exp'].mean()"
   ]
  },
  {
   "cell_type": "code",
   "execution_count": 65,
   "metadata": {},
   "outputs": [
    {
     "name": "stderr",
     "output_type": "stream",
     "text": [
      "/Users/bassim/anaconda3/lib/python3.6/site-packages/matplotlib/axes/_axes.py:6462: UserWarning: The 'normed' kwarg is deprecated, and has been replaced by the 'density' kwarg.\n",
      "  warnings.warn(\"The 'normed' kwarg is deprecated, and has been \"\n",
      "/Users/bassim/anaconda3/lib/python3.6/site-packages/matplotlib/axes/_axes.py:6462: UserWarning: The 'normed' kwarg is deprecated, and has been replaced by the 'density' kwarg.\n",
      "  warnings.warn(\"The 'normed' kwarg is deprecated, and has been \"\n"
     ]
    },
    {
     "data": {
      "text/plain": [
       "<matplotlib.axes._subplots.AxesSubplot at 0x1c2257df60>"
      ]
     },
     "execution_count": 65,
     "metadata": {},
     "output_type": "execute_result"
    },
    {
     "data": {
      "image/png": "[encoded data removed]",
      "text/plain": [
       "<Figure size 432x288 with 1 Axes>"
      ]
     },
     "metadata": {},
     "output_type": "display_data"
    }
   ],
   "source": [
    "# without taking log\n",
    "\n",
    "sns.distplot(data_1['food_exp'])\n",
    "sns.distplot(data_1['tot_exp'])"
   ]
  },
  {
   "cell_type": "code",
   "execution_count": 67,
   "metadata": {},
   "outputs": [
    {
     "name": "stderr",
     "output_type": "stream",
     "text": [
      "/Users/bassim/anaconda3/lib/python3.6/site-packages/matplotlib/axes/_axes.py:6462: UserWarning: The 'normed' kwarg is deprecated, and has been replaced by the 'density' kwarg.\n",
      "  warnings.warn(\"The 'normed' kwarg is deprecated, and has been \"\n",
      "/Users/bassim/anaconda3/lib/python3.6/site-packages/matplotlib/axes/_axes.py:6462: UserWarning: The 'normed' kwarg is deprecated, and has been replaced by the 'density' kwarg.\n",
      "  warnings.warn(\"The 'normed' kwarg is deprecated, and has been \"\n"
     ]
    },
    {
     "data": {
      "text/plain": [
       "<matplotlib.axes._subplots.AxesSubplot at 0x1c22915dd8>"
      ]
     },
     "execution_count": 67,
     "metadata": {},
     "output_type": "execute_result"
    },
    {
     "data": {
      "image/png": "[encoded data removed]",
      "text/plain": [
       "<Figure size 432x288 with 1 Axes>"
      ]
     },
     "metadata": {},
     "output_type": "display_data"
    }
   ],
   "source": [
    "# Taking logarithm\n",
    "\n",
    "sns.distplot(np.log(data_1['food_exp']))\n",
    "sns.distplot(np.log(data_1['tot_exp']))"
   ]
  },
  {
   "cell_type": "code",
   "execution_count": 277,
   "metadata": {},
   "outputs": [
    {
     "data": {
      "text/html": [
       "<table class=\"simpletable\">\n",
       "<caption>OLS Regression Results</caption>\n",
       "<tr>\n",
       "  <th>Dep. Variable:</th>        <td>food_exp</td>     <th>  R-squared:         </th> <td>   0.753</td>\n",
       "</tr>\n",
       "<tr>\n",
       "  <th>Model:</th>                   <td>OLS</td>       <th>  Adj. R-squared:    </th> <td>   0.750</td>\n",
       "</tr>\n",
       "<tr>\n",
       "  <th>Method:</th>             <td>Least Squares</td>  <th>  F-statistic:       </th> <td>   298.0</td>\n",
       "</tr>\n",
       "<tr>\n",
       "  <th>Date:</th>             <td>Sun, 23 Sep 2018</td> <th>  Prob (F-statistic):</th> <td>1.78e-31</td>\n",
       "</tr>\n",
       "<tr>\n",
       "  <th>Time:</th>                 <td>20:55:15</td>     <th>  Log-Likelihood:    </th> <td> -7.7515</td>\n",
       "</tr>\n",
       "<tr>\n",
       "  <th>No. Observations:</th>      <td>   100</td>      <th>  AIC:               </th> <td>   19.50</td>\n",
       "</tr>\n",
       "<tr>\n",
       "  <th>Df Residuals:</th>          <td>    98</td>      <th>  BIC:               </th> <td>   24.71</td>\n",
       "</tr>\n",
       "<tr>\n",
       "  <th>Df Model:</th>              <td>     1</td>      <th>                     </th>     <td> </td>   \n",
       "</tr>\n",
       "<tr>\n",
       "  <th>Covariance Type:</th>      <td>nonrobust</td>    <th>                     </th>     <td> </td>   \n",
       "</tr>\n",
       "</table>\n",
       "<table class=\"simpletable\">\n",
       "<tr>\n",
       "     <td></td>        <th>coef</th>     <th>std err</th>      <th>t</th>      <th>P>|t|</th>  <th>[0.025</th>    <th>0.975]</th>  \n",
       "</tr>\n",
       "<tr>\n",
       "  <th>const</th>   <td>    1.4830</td> <td>    0.322</td> <td>    4.613</td> <td> 0.000</td> <td>    0.845</td> <td>    2.121</td>\n",
       "</tr>\n",
       "<tr>\n",
       "  <th>tot_exp</th> <td>    0.7135</td> <td>    0.041</td> <td>   17.262</td> <td> 0.000</td> <td>    0.631</td> <td>    0.795</td>\n",
       "</tr>\n",
       "</table>\n",
       "<table class=\"simpletable\">\n",
       "<tr>\n",
       "  <th>Omnibus:</th>       <td>11.359</td> <th>  Durbin-Watson:     </th> <td>   1.979</td>\n",
       "</tr>\n",
       "<tr>\n",
       "  <th>Prob(Omnibus):</th> <td> 0.003</td> <th>  Jarque-Bera (JB):  </th> <td>  13.137</td>\n",
       "</tr>\n",
       "<tr>\n",
       "  <th>Skew:</th>          <td>-0.637</td> <th>  Prob(JB):          </th> <td> 0.00140</td>\n",
       "</tr>\n",
       "<tr>\n",
       "  <th>Kurtosis:</th>      <td> 4.236</td> <th>  Cond. No.          </th> <td>    96.2</td>\n",
       "</tr>\n",
       "</table><br/><br/>Warnings:<br/>[1] Standard Errors assume that the covariance matrix of the errors is correctly specified."
      ],
      "text/plain": [
       "<class 'statsmodels.iolib.summary.Summary'>\n",
       "\"\"\"\n",
       "                            OLS Regression Results                            \n",
       "==============================================================================\n",
       "Dep. Variable:               food_exp   R-squared:                       0.753\n",
       "Model:                            OLS   Adj. R-squared:                  0.750\n",
       "Method:                 Least Squares   F-statistic:                     298.0\n",
       "Date:                Sun, 23 Sep 2018   Prob (F-statistic):           1.78e-31\n",
       "Time:                        20:55:15   Log-Likelihood:                -7.7515\n",
       "No. Observations:                 100   AIC:                             19.50\n",
       "Df Residuals:                      98   BIC:                             24.71\n",
       "Df Model:                           1                                         \n",
       "Covariance Type:            nonrobust                                         \n",
       "==============================================================================\n",
       "                 coef    std err          t      P>|t|      [0.025      0.975]\n",
       "------------------------------------------------------------------------------\n",
       "const          1.4830      0.322      4.613      0.000       0.845       2.121\n",
       "tot_exp        0.7135      0.041     17.262      0.000       0.631       0.795\n",
       "==============================================================================\n",
       "Omnibus:                       11.359   Durbin-Watson:                   1.979\n",
       "Prob(Omnibus):                  0.003   Jarque-Bera (JB):               13.137\n",
       "Skew:                          -0.637   Prob(JB):                      0.00140\n",
       "Kurtosis:                       4.236   Cond. No.                         96.2\n",
       "==============================================================================\n",
       "\n",
       "Warnings:\n",
       "[1] Standard Errors assume that the covariance matrix of the errors is correctly specified.\n",
       "\"\"\""
      ]
     },
     "execution_count": 277,
     "metadata": {},
     "output_type": "execute_result"
    }
   ],
   "source": [
    "# Getting estimates of regression ln(food_exp) = b0 + b1*ln(tot_exp) + vi\n",
    "\n",
    "Y = np.log(data_1['food_exp'])\n",
    "X = np.log(data_1['tot_exp'])\n",
    "X = sm.add_constant(X)\n",
    "\n",
    "\n",
    "model = sm.OLS(Y, X).fit()\n",
    "predictions = model.predict(X)\n",
    "model.summary()\n"
   ]
  },
  {
   "cell_type": "code",
   "execution_count": 70,
   "metadata": {},
   "outputs": [
    {
     "data": {
      "text/plain": [
       "(4, 8.578206973031616)"
      ]
     },
     "execution_count": 70,
     "metadata": {},
     "output_type": "execute_result"
    },
    {
     "data": {
      "image/png": "[encoded data removed]",
      "text/plain": [
       "<Figure size 432x288 with 1 Axes>"
      ]
     },
     "metadata": {},
     "output_type": "display_data"
    }
   ],
   "source": [
    "plt.scatter(np.log(data_1['tot_exp']),np.log(data_1['food_exp']))\n",
    "plt.plot(X, X*0.713466 + 1.482987, 'r')\n",
    "plt.ylabel('Food Expenditure')\n",
    "plt.xlabel('Total Expenditure')\n",
    "plt.xlim(xmin=4)\n",
    "plt.ylim(ymin=4)"
   ]
  },
  {
   "cell_type": "code",
   "execution_count": 78,
   "metadata": {},
   "outputs": [
    {
     "data": {
      "text/plain": [
       "<matplotlib.axes._subplots.AxesSubplot at 0x1c22e97828>"
      ]
     },
     "execution_count": 78,
     "metadata": {},
     "output_type": "execute_result"
    },
    {
     "data": {
      "image/png": "[encoded data removed]",
      "text/plain": [
       "<Figure size 432x288 with 1 Axes>"
      ]
     },
     "metadata": {},
     "output_type": "display_data"
    }
   ],
   "source": [
    "sns.residplot(np.log(data_1['tot_exp']), np.log(data_1['food_exp']), lowess=False, color=\"b\")"
   ]
  },
  {
   "cell_type": "code",
   "execution_count": 243,
   "metadata": {},
   "outputs": [
    {
     "data": {
      "text/html": [
       "<div>\n",
       "<style scoped>\n",
       "    .dataframe tbody tr th:only-of-type {\n",
       "        vertical-align: middle;\n",
       "    }\n",
       "\n",
       "    .dataframe tbody tr th {\n",
       "        vertical-align: top;\n",
       "    }\n",
       "\n",
       "    .dataframe thead th {\n",
       "        text-align: right;\n",
       "    }\n",
       "</style>\n",
       "<table border=\"1\" class=\"dataframe\">\n",
       "  <thead>\n",
       "    <tr style=\"text-align: right;\">\n",
       "      <th></th>\n",
       "      <th>tot_exp</th>\n",
       "      <th>food_exp</th>\n",
       "      <th>hous_exp</th>\n",
       "      <th>n_adult</th>\n",
       "      <th>n_child</th>\n",
       "      <th>hhsize</th>\n",
       "      <th>pce</th>\n",
       "    </tr>\n",
       "  </thead>\n",
       "  <tbody>\n",
       "    <tr>\n",
       "      <th>37</th>\n",
       "      <td>317.0</td>\n",
       "      <td>188.0</td>\n",
       "      <td>0.0</td>\n",
       "      <td>1.0</td>\n",
       "      <td>0.0</td>\n",
       "      <td>1.0</td>\n",
       "      <td>317.000000</td>\n",
       "    </tr>\n",
       "    <tr>\n",
       "      <th>55</th>\n",
       "      <td>570.0</td>\n",
       "      <td>295.0</td>\n",
       "      <td>120.0</td>\n",
       "      <td>1.0</td>\n",
       "      <td>0.0</td>\n",
       "      <td>1.0</td>\n",
       "      <td>570.000000</td>\n",
       "    </tr>\n",
       "    <tr>\n",
       "      <th>63</th>\n",
       "      <td>687.0</td>\n",
       "      <td>505.0</td>\n",
       "      <td>0.0</td>\n",
       "      <td>2.0</td>\n",
       "      <td>0.0</td>\n",
       "      <td>2.0</td>\n",
       "      <td>343.500000</td>\n",
       "    </tr>\n",
       "    <tr>\n",
       "      <th>96</th>\n",
       "      <td>790.0</td>\n",
       "      <td>470.0</td>\n",
       "      <td>0.0</td>\n",
       "      <td>2.0</td>\n",
       "      <td>2.0</td>\n",
       "      <td>4.0</td>\n",
       "      <td>197.500000</td>\n",
       "    </tr>\n",
       "    <tr>\n",
       "      <th>62</th>\n",
       "      <td>854.0</td>\n",
       "      <td>331.0</td>\n",
       "      <td>0.0</td>\n",
       "      <td>1.0</td>\n",
       "      <td>2.0</td>\n",
       "      <td>3.0</td>\n",
       "      <td>284.666656</td>\n",
       "    </tr>\n",
       "  </tbody>\n",
       "</table>\n",
       "</div>"
      ],
      "text/plain": [
       "    tot_exp  food_exp  hous_exp  n_adult  n_child  hhsize         pce\n",
       "37    317.0     188.0       0.0      1.0      0.0     1.0  317.000000\n",
       "55    570.0     295.0     120.0      1.0      0.0     1.0  570.000000\n",
       "63    687.0     505.0       0.0      2.0      0.0     2.0  343.500000\n",
       "96    790.0     470.0       0.0      2.0      2.0     4.0  197.500000\n",
       "62    854.0     331.0       0.0      1.0      2.0     3.0  284.666656"
      ]
     },
     "execution_count": 243,
     "metadata": {},
     "output_type": "execute_result"
    }
   ],
   "source": [
    "data_1.head()"
   ]
  },
  {
   "cell_type": "code",
   "execution_count": 278,
   "metadata": {},
   "outputs": [
    {
     "data": {
      "text/plain": [
       "LinearRegression(copy_X=True, fit_intercept=True, n_jobs=1, normalize=False)"
      ]
     },
     "execution_count": 278,
     "metadata": {},
     "output_type": "execute_result"
    }
   ],
   "source": [
    "# I think I finally got this\n",
    "\n",
    "X = np.array(data_1['tot_exp']).reshape(-1,1)\n",
    "X_new = np.hstack([X,X**2])\n",
    "Y = np.array(data_1['food_exp']).reshape(-1,1)\n",
    "model = LinearRegression()\n",
    "model.fit(X_new,Y)"
   ]
  },
  {
   "cell_type": "code",
   "execution_count": 279,
   "metadata": {},
   "outputs": [
    {
     "data": {
      "text/plain": [
       "array([[ 4.7415277e-01, -2.0926926e-05]], dtype=float32)"
      ]
     },
     "execution_count": 279,
     "metadata": {},
     "output_type": "execute_result"
    }
   ],
   "source": [
    "model.coef_"
   ]
  },
  {
   "cell_type": "code",
   "execution_count": 280,
   "metadata": {},
   "outputs": [
    {
     "data": {
      "text/plain": [
       "array([178.03796], dtype=float32)"
      ]
     },
     "execution_count": 280,
     "metadata": {},
     "output_type": "execute_result"
    }
   ],
   "source": [
    "model.intercept_"
   ]
  },
  {
   "cell_type": "code",
   "execution_count": 241,
   "metadata": {},
   "outputs": [
    {
     "data": {
      "text/plain": [
       "0.6940875809469393"
      ]
     },
     "execution_count": 241,
     "metadata": {},
     "output_type": "execute_result"
    }
   ],
   "source": [
    "model.score(X_new,Y)"
   ]
  },
  {
   "cell_type": "code",
   "execution_count": 242,
   "metadata": {},
   "outputs": [
    {
     "data": {
      "text/plain": [
       "[<matplotlib.lines.Line2D at 0x1c179d6470>]"
      ]
     },
     "execution_count": 242,
     "metadata": {},
     "output_type": "execute_result"
    },
    {
     "data": {
      "image/png": "[encoded data removed]",
      "text/plain": [
       "<Figure size 432x288 with 1 Axes>"
      ]
     },
     "metadata": {},
     "output_type": "display_data"
    }
   ],
   "source": [
    "plt.scatter(X,Y)\n",
    "plt.plot(X,model.predict(X_new),'r')"
   ]
  },
  {
   "cell_type": "code",
   "execution_count": 190,
   "metadata": {},
   "outputs": [
    {
     "data": {
      "text/plain": [
       "<matplotlib.axes._subplots.AxesSubplot at 0x1c1d5885f8>"
      ]
     },
     "execution_count": 190,
     "metadata": {},
     "output_type": "execute_result"
    },
    {
     "data": {
      "image/png": "[encoded data removed]",
      "text/plain": [
       "<Figure size 432x288 with 1 Axes>"
      ]
     },
     "metadata": {},
     "output_type": "display_data"
    }
   ],
   "source": [
    "sns.residplot(X,model.predict(X_new))"
   ]
  },
  {
   "cell_type": "code",
   "execution_count": 289,
   "metadata": {},
   "outputs": [
    {
     "data": {
      "text/plain": [
       "LinearRegression(copy_X=True, fit_intercept=True, n_jobs=1, normalize=False)"
      ]
     },
     "execution_count": 289,
     "metadata": {},
     "output_type": "execute_result"
    }
   ],
   "source": [
    "X = np.array(data_1['tot_exp']).reshape(-1,1)\n",
    "X_new = np.hstack([np.log(X),(np.log(X))**2])\n",
    "Y = np.array(data_1['food_exp']).reshape(-1,1)\n",
    "model = LinearRegression()\n",
    "model.fit(X_new,Y)"
   ]
  },
  {
   "cell_type": "code",
   "execution_count": 290,
   "metadata": {},
   "outputs": [
    {
     "data": {
      "text/plain": [
       "array([[-1257.0994 ,   135.50452]], dtype=float32)"
      ]
     },
     "execution_count": 290,
     "metadata": {},
     "output_type": "execute_result"
    }
   ],
   "source": [
    "model.coef_"
   ]
  },
  {
   "cell_type": "code",
   "execution_count": 291,
   "metadata": {},
   "outputs": [
    {
     "data": {
      "text/plain": [
       "array([2814.1812], dtype=float32)"
      ]
     },
     "execution_count": 291,
     "metadata": {},
     "output_type": "execute_result"
    }
   ],
   "source": [
    "model.intercept_"
   ]
  },
  {
   "cell_type": "code",
   "execution_count": 292,
   "metadata": {},
   "outputs": [
    {
     "data": {
      "text/plain": [
       "0.6964384549141707"
      ]
     },
     "execution_count": 292,
     "metadata": {},
     "output_type": "execute_result"
    }
   ],
   "source": [
    "model.score(X_new,Y)"
   ]
  },
  {
   "cell_type": "code",
   "execution_count": 293,
   "metadata": {},
   "outputs": [
    {
     "data": {
      "text/plain": [
       "[<matplotlib.lines.Line2D at 0x1c1d969278>]"
      ]
     },
     "execution_count": 293,
     "metadata": {},
     "output_type": "execute_result"
    },
    {
     "data": {
      "image/png": "[encoded data removed]",
      "text/plain": [
       "<Figure size 432x288 with 1 Axes>"
      ]
     },
     "metadata": {},
     "output_type": "display_data"
    }
   ],
   "source": [
    "plt.scatter(X,Y)\n",
    "plt.plot(X,model.predict(X_new),'r')"
   ]
  },
  {
   "cell_type": "code",
   "execution_count": 178,
   "metadata": {},
   "outputs": [
    {
     "data": {
      "text/plain": [
       "<matplotlib.axes._subplots.AxesSubplot at 0x1c1cde54e0>"
      ]
     },
     "execution_count": 178,
     "metadata": {},
     "output_type": "execute_result"
    },
    {
     "data": {
      "image/png": "[encoded data removed]",
      "text/plain": [
       "<Figure size 432x288 with 1 Axes>"
      ]
     },
     "metadata": {},
     "output_type": "display_data"
    }
   ],
   "source": [
    "sns.residplot(X,model.predict(X_new))"
   ]
  },
  {
   "cell_type": "code",
   "execution_count": 217,
   "metadata": {},
   "outputs": [
    {
     "data": {
      "text/html": [
       "<div>\n",
       "<style scoped>\n",
       "    .dataframe tbody tr th:only-of-type {\n",
       "        vertical-align: middle;\n",
       "    }\n",
       "\n",
       "    .dataframe tbody tr th {\n",
       "        vertical-align: top;\n",
       "    }\n",
       "\n",
       "    .dataframe thead th {\n",
       "        text-align: right;\n",
       "    }\n",
       "</style>\n",
       "<table border=\"1\" class=\"dataframe\">\n",
       "  <thead>\n",
       "    <tr style=\"text-align: right;\">\n",
       "      <th></th>\n",
       "      <th>tot_exp</th>\n",
       "      <th>food_exp</th>\n",
       "      <th>hous_exp</th>\n",
       "      <th>n_adult</th>\n",
       "      <th>n_child</th>\n",
       "      <th>hhsize</th>\n",
       "      <th>pce</th>\n",
       "      <th>log_tot</th>\n",
       "    </tr>\n",
       "  </thead>\n",
       "  <tbody>\n",
       "    <tr>\n",
       "      <th>37</th>\n",
       "      <td>317.0</td>\n",
       "      <td>188.0</td>\n",
       "      <td>0.0</td>\n",
       "      <td>1.0</td>\n",
       "      <td>0.0</td>\n",
       "      <td>1.0</td>\n",
       "      <td>317.000000</td>\n",
       "      <td>5.758902</td>\n",
       "    </tr>\n",
       "    <tr>\n",
       "      <th>55</th>\n",
       "      <td>570.0</td>\n",
       "      <td>295.0</td>\n",
       "      <td>120.0</td>\n",
       "      <td>1.0</td>\n",
       "      <td>0.0</td>\n",
       "      <td>1.0</td>\n",
       "      <td>570.000000</td>\n",
       "      <td>6.345636</td>\n",
       "    </tr>\n",
       "    <tr>\n",
       "      <th>63</th>\n",
       "      <td>687.0</td>\n",
       "      <td>505.0</td>\n",
       "      <td>0.0</td>\n",
       "      <td>2.0</td>\n",
       "      <td>0.0</td>\n",
       "      <td>2.0</td>\n",
       "      <td>343.500000</td>\n",
       "      <td>6.532334</td>\n",
       "    </tr>\n",
       "    <tr>\n",
       "      <th>96</th>\n",
       "      <td>790.0</td>\n",
       "      <td>470.0</td>\n",
       "      <td>0.0</td>\n",
       "      <td>2.0</td>\n",
       "      <td>2.0</td>\n",
       "      <td>4.0</td>\n",
       "      <td>197.500000</td>\n",
       "      <td>6.672033</td>\n",
       "    </tr>\n",
       "    <tr>\n",
       "      <th>62</th>\n",
       "      <td>854.0</td>\n",
       "      <td>331.0</td>\n",
       "      <td>0.0</td>\n",
       "      <td>1.0</td>\n",
       "      <td>2.0</td>\n",
       "      <td>3.0</td>\n",
       "      <td>284.666656</td>\n",
       "      <td>6.749931</td>\n",
       "    </tr>\n",
       "  </tbody>\n",
       "</table>\n",
       "</div>"
      ],
      "text/plain": [
       "    tot_exp  food_exp  hous_exp  n_adult  n_child  hhsize         pce  \\\n",
       "37    317.0     188.0       0.0      1.0      0.0     1.0  317.000000   \n",
       "55    570.0     295.0     120.0      1.0      0.0     1.0  570.000000   \n",
       "63    687.0     505.0       0.0      2.0      0.0     2.0  343.500000   \n",
       "96    790.0     470.0       0.0      2.0      2.0     4.0  197.500000   \n",
       "62    854.0     331.0       0.0      1.0      2.0     3.0  284.666656   \n",
       "\n",
       "     log_tot  \n",
       "37  5.758902  \n",
       "55  6.345636  \n",
       "63  6.532334  \n",
       "96  6.672033  \n",
       "62  6.749931  "
      ]
     },
     "execution_count": 217,
     "metadata": {},
     "output_type": "execute_result"
    }
   ],
   "source": [
    "data_1.head()"
   ]
  },
  {
   "cell_type": "code",
   "execution_count": 227,
   "metadata": {},
   "outputs": [],
   "source": [
    "data_1['log_tot'] = np.log(data_1['tot_exp'])"
   ]
  },
  {
   "cell_type": "code",
   "execution_count": 228,
   "metadata": {},
   "outputs": [],
   "source": [
    "X = data_1[['log_tot','n_adult','n_child']]\n",
    "X = sm.add_constant(X)\n",
    "y = np.log(data_1[\"food_exp\"])\n",
    "model = sm.OLS(y, X).fit()\n",
    "predictions = model.predict(X)"
   ]
  },
  {
   "cell_type": "code",
   "execution_count": 229,
   "metadata": {},
   "outputs": [
    {
     "data": {
      "text/html": [
       "<table class=\"simpletable\">\n",
       "<caption>OLS Regression Results</caption>\n",
       "<tr>\n",
       "  <th>Dep. Variable:</th>        <td>food_exp</td>     <th>  R-squared:         </th> <td>   0.781</td>\n",
       "</tr>\n",
       "<tr>\n",
       "  <th>Model:</th>                   <td>OLS</td>       <th>  Adj. R-squared:    </th> <td>   0.774</td>\n",
       "</tr>\n",
       "<tr>\n",
       "  <th>Method:</th>             <td>Least Squares</td>  <th>  F-statistic:       </th> <td>   114.1</td>\n",
       "</tr>\n",
       "<tr>\n",
       "  <th>Date:</th>             <td>Sun, 23 Sep 2018</td> <th>  Prob (F-statistic):</th> <td>1.54e-31</td>\n",
       "</tr>\n",
       "<tr>\n",
       "  <th>Time:</th>                 <td>16:12:06</td>     <th>  Log-Likelihood:    </th> <td> -1.6418</td>\n",
       "</tr>\n",
       "<tr>\n",
       "  <th>No. Observations:</th>      <td>   100</td>      <th>  AIC:               </th> <td>   11.28</td>\n",
       "</tr>\n",
       "<tr>\n",
       "  <th>Df Residuals:</th>          <td>    96</td>      <th>  BIC:               </th> <td>   21.70</td>\n",
       "</tr>\n",
       "<tr>\n",
       "  <th>Df Model:</th>              <td>     3</td>      <th>                     </th>     <td> </td>   \n",
       "</tr>\n",
       "<tr>\n",
       "  <th>Covariance Type:</th>      <td>nonrobust</td>    <th>                     </th>     <td> </td>   \n",
       "</tr>\n",
       "</table>\n",
       "<table class=\"simpletable\">\n",
       "<tr>\n",
       "     <td></td>        <th>coef</th>     <th>std err</th>      <th>t</th>      <th>P>|t|</th>  <th>[0.025</th>    <th>0.975]</th>  \n",
       "</tr>\n",
       "<tr>\n",
       "  <th>const</th>   <td>    1.8235</td> <td>    0.332</td> <td>    5.486</td> <td> 0.000</td> <td>    1.164</td> <td>    2.483</td>\n",
       "</tr>\n",
       "<tr>\n",
       "  <th>log_tot</th> <td>    0.6433</td> <td>    0.046</td> <td>   13.960</td> <td> 0.000</td> <td>    0.552</td> <td>    0.735</td>\n",
       "</tr>\n",
       "<tr>\n",
       "  <th>n_adult</th> <td>    0.0389</td> <td>    0.016</td> <td>    2.484</td> <td> 0.015</td> <td>    0.008</td> <td>    0.070</td>\n",
       "</tr>\n",
       "<tr>\n",
       "  <th>n_child</th> <td>    0.0335</td> <td>    0.014</td> <td>    2.356</td> <td> 0.020</td> <td>    0.005</td> <td>    0.062</td>\n",
       "</tr>\n",
       "</table>\n",
       "<table class=\"simpletable\">\n",
       "<tr>\n",
       "  <th>Omnibus:</th>       <td> 2.232</td> <th>  Durbin-Watson:     </th> <td>   2.201</td>\n",
       "</tr>\n",
       "<tr>\n",
       "  <th>Prob(Omnibus):</th> <td> 0.328</td> <th>  Jarque-Bera (JB):  </th> <td>   1.714</td>\n",
       "</tr>\n",
       "<tr>\n",
       "  <th>Skew:</th>          <td>-0.158</td> <th>  Prob(JB):          </th> <td>   0.424</td>\n",
       "</tr>\n",
       "<tr>\n",
       "  <th>Kurtosis:</th>      <td> 3.558</td> <th>  Cond. No.          </th> <td>    119.</td>\n",
       "</tr>\n",
       "</table><br/><br/>Warnings:<br/>[1] Standard Errors assume that the covariance matrix of the errors is correctly specified."
      ],
      "text/plain": [
       "<class 'statsmodels.iolib.summary.Summary'>\n",
       "\"\"\"\n",
       "                            OLS Regression Results                            \n",
       "==============================================================================\n",
       "Dep. Variable:               food_exp   R-squared:                       0.781\n",
       "Model:                            OLS   Adj. R-squared:                  0.774\n",
       "Method:                 Least Squares   F-statistic:                     114.1\n",
       "Date:                Sun, 23 Sep 2018   Prob (F-statistic):           1.54e-31\n",
       "Time:                        16:12:06   Log-Likelihood:                -1.6418\n",
       "No. Observations:                 100   AIC:                             11.28\n",
       "Df Residuals:                      96   BIC:                             21.70\n",
       "Df Model:                           3                                         \n",
       "Covariance Type:            nonrobust                                         \n",
       "==============================================================================\n",
       "                 coef    std err          t      P>|t|      [0.025      0.975]\n",
       "------------------------------------------------------------------------------\n",
       "const          1.8235      0.332      5.486      0.000       1.164       2.483\n",
       "log_tot        0.6433      0.046     13.960      0.000       0.552       0.735\n",
       "n_adult        0.0389      0.016      2.484      0.015       0.008       0.070\n",
       "n_child        0.0335      0.014      2.356      0.020       0.005       0.062\n",
       "==============================================================================\n",
       "Omnibus:                        2.232   Durbin-Watson:                   2.201\n",
       "Prob(Omnibus):                  0.328   Jarque-Bera (JB):                1.714\n",
       "Skew:                          -0.158   Prob(JB):                        0.424\n",
       "Kurtosis:                       3.558   Cond. No.                         119.\n",
       "==============================================================================\n",
       "\n",
       "Warnings:\n",
       "[1] Standard Errors assume that the covariance matrix of the errors is correctly specified.\n",
       "\"\"\""
      ]
     },
     "execution_count": 229,
     "metadata": {},
     "output_type": "execute_result"
    }
   ],
   "source": [
    "model.summary()"
   ]
  },
  {
   "cell_type": "code",
   "execution_count": 230,
   "metadata": {},
   "outputs": [
    {
     "data": {
      "text/html": [
       "<table class=\"simpletable\">\n",
       "<caption>OLS Regression Results</caption>\n",
       "<tr>\n",
       "  <th>Dep. Variable:</th>        <td>food_exp</td>     <th>  R-squared:         </th> <td>   0.781</td>\n",
       "</tr>\n",
       "<tr>\n",
       "  <th>Model:</th>                   <td>OLS</td>       <th>  Adj. R-squared:    </th> <td>   0.774</td>\n",
       "</tr>\n",
       "<tr>\n",
       "  <th>Method:</th>             <td>Least Squares</td>  <th>  F-statistic:       </th> <td>   114.1</td>\n",
       "</tr>\n",
       "<tr>\n",
       "  <th>Date:</th>             <td>Sun, 23 Sep 2018</td> <th>  Prob (F-statistic):</th> <td>1.54e-31</td>\n",
       "</tr>\n",
       "<tr>\n",
       "  <th>Time:</th>                 <td>16:12:08</td>     <th>  Log-Likelihood:    </th> <td> -1.6418</td>\n",
       "</tr>\n",
       "<tr>\n",
       "  <th>No. Observations:</th>      <td>   100</td>      <th>  AIC:               </th> <td>   11.28</td>\n",
       "</tr>\n",
       "<tr>\n",
       "  <th>Df Residuals:</th>          <td>    96</td>      <th>  BIC:               </th> <td>   21.70</td>\n",
       "</tr>\n",
       "<tr>\n",
       "  <th>Df Model:</th>              <td>     3</td>      <th>                     </th>     <td> </td>   \n",
       "</tr>\n",
       "<tr>\n",
       "  <th>Covariance Type:</th>      <td>nonrobust</td>    <th>                     </th>     <td> </td>   \n",
       "</tr>\n",
       "</table>\n",
       "<table class=\"simpletable\">\n",
       "<tr>\n",
       "     <td></td>        <th>coef</th>     <th>std err</th>      <th>t</th>      <th>P>|t|</th>  <th>[0.025</th>    <th>0.975]</th>  \n",
       "</tr>\n",
       "<tr>\n",
       "  <th>const</th>   <td>    1.8235</td> <td>    0.332</td> <td>    5.486</td> <td> 0.000</td> <td>    1.164</td> <td>    2.483</td>\n",
       "</tr>\n",
       "<tr>\n",
       "  <th>log_tot</th> <td>    0.6433</td> <td>    0.046</td> <td>   13.960</td> <td> 0.000</td> <td>    0.552</td> <td>    0.735</td>\n",
       "</tr>\n",
       "<tr>\n",
       "  <th>hhsize</th>  <td>    0.0389</td> <td>    0.016</td> <td>    2.484</td> <td> 0.015</td> <td>    0.008</td> <td>    0.070</td>\n",
       "</tr>\n",
       "<tr>\n",
       "  <th>n_child</th> <td>   -0.0055</td> <td>    0.022</td> <td>   -0.251</td> <td> 0.802</td> <td>   -0.049</td> <td>    0.038</td>\n",
       "</tr>\n",
       "</table>\n",
       "<table class=\"simpletable\">\n",
       "<tr>\n",
       "  <th>Omnibus:</th>       <td> 2.232</td> <th>  Durbin-Watson:     </th> <td>   2.201</td>\n",
       "</tr>\n",
       "<tr>\n",
       "  <th>Prob(Omnibus):</th> <td> 0.328</td> <th>  Jarque-Bera (JB):  </th> <td>   1.714</td>\n",
       "</tr>\n",
       "<tr>\n",
       "  <th>Skew:</th>          <td>-0.158</td> <th>  Prob(JB):          </th> <td>   0.424</td>\n",
       "</tr>\n",
       "<tr>\n",
       "  <th>Kurtosis:</th>      <td> 3.558</td> <th>  Cond. No.          </th> <td>    134.</td>\n",
       "</tr>\n",
       "</table><br/><br/>Warnings:<br/>[1] Standard Errors assume that the covariance matrix of the errors is correctly specified."
      ],
      "text/plain": [
       "<class 'statsmodels.iolib.summary.Summary'>\n",
       "\"\"\"\n",
       "                            OLS Regression Results                            \n",
       "==============================================================================\n",
       "Dep. Variable:               food_exp   R-squared:                       0.781\n",
       "Model:                            OLS   Adj. R-squared:                  0.774\n",
       "Method:                 Least Squares   F-statistic:                     114.1\n",
       "Date:                Sun, 23 Sep 2018   Prob (F-statistic):           1.54e-31\n",
       "Time:                        16:12:08   Log-Likelihood:                -1.6418\n",
       "No. Observations:                 100   AIC:                             11.28\n",
       "Df Residuals:                      96   BIC:                             21.70\n",
       "Df Model:                           3                                         \n",
       "Covariance Type:            nonrobust                                         \n",
       "==============================================================================\n",
       "                 coef    std err          t      P>|t|      [0.025      0.975]\n",
       "------------------------------------------------------------------------------\n",
       "const          1.8235      0.332      5.486      0.000       1.164       2.483\n",
       "log_tot        0.6433      0.046     13.960      0.000       0.552       0.735\n",
       "hhsize         0.0389      0.016      2.484      0.015       0.008       0.070\n",
       "n_child       -0.0055      0.022     -0.251      0.802      -0.049       0.038\n",
       "==============================================================================\n",
       "Omnibus:                        2.232   Durbin-Watson:                   2.201\n",
       "Prob(Omnibus):                  0.328   Jarque-Bera (JB):                1.714\n",
       "Skew:                          -0.158   Prob(JB):                        0.424\n",
       "Kurtosis:                       3.558   Cond. No.                         134.\n",
       "==============================================================================\n",
       "\n",
       "Warnings:\n",
       "[1] Standard Errors assume that the covariance matrix of the errors is correctly specified.\n",
       "\"\"\""
      ]
     },
     "execution_count": 230,
     "metadata": {},
     "output_type": "execute_result"
    }
   ],
   "source": [
    "X = data_1[['log_tot','hhsize','n_child']]\n",
    "X = sm.add_constant(X)\n",
    "y = np.log(data_1[\"food_exp\"])\n",
    "model = sm.OLS(y, X).fit()\n",
    "predictions = model.predict(X)\n",
    "model.summary()"
   ]
  },
  {
   "cell_type": "code",
   "execution_count": 231,
   "metadata": {},
   "outputs": [],
   "source": [
    "data_1['hh_lntot'] = data_1['log_tot']*data_1['hhsize']"
   ]
  },
  {
   "cell_type": "code",
   "execution_count": 232,
   "metadata": {},
   "outputs": [
    {
     "data": {
      "text/html": [
       "<table class=\"simpletable\">\n",
       "<caption>OLS Regression Results</caption>\n",
       "<tr>\n",
       "  <th>Dep. Variable:</th>        <td>food_exp</td>     <th>  R-squared:         </th> <td>   0.785</td>\n",
       "</tr>\n",
       "<tr>\n",
       "  <th>Model:</th>                   <td>OLS</td>       <th>  Adj. R-squared:    </th> <td>   0.776</td>\n",
       "</tr>\n",
       "<tr>\n",
       "  <th>Method:</th>             <td>Least Squares</td>  <th>  F-statistic:       </th> <td>   86.82</td>\n",
       "</tr>\n",
       "<tr>\n",
       "  <th>Date:</th>             <td>Sun, 23 Sep 2018</td> <th>  Prob (F-statistic):</th> <td>7.14e-31</td>\n",
       "</tr>\n",
       "<tr>\n",
       "  <th>Time:</th>                 <td>16:27:27</td>     <th>  Log-Likelihood:    </th> <td>-0.66496</td>\n",
       "</tr>\n",
       "<tr>\n",
       "  <th>No. Observations:</th>      <td>   100</td>      <th>  AIC:               </th> <td>   11.33</td>\n",
       "</tr>\n",
       "<tr>\n",
       "  <th>Df Residuals:</th>          <td>    95</td>      <th>  BIC:               </th> <td>   24.36</td>\n",
       "</tr>\n",
       "<tr>\n",
       "  <th>Df Model:</th>              <td>     4</td>      <th>                     </th>     <td> </td>   \n",
       "</tr>\n",
       "<tr>\n",
       "  <th>Covariance Type:</th>      <td>nonrobust</td>    <th>                     </th>     <td> </td>   \n",
       "</tr>\n",
       "</table>\n",
       "<table class=\"simpletable\">\n",
       "<tr>\n",
       "      <td></td>        <th>coef</th>     <th>std err</th>      <th>t</th>      <th>P>|t|</th>  <th>[0.025</th>    <th>0.975]</th>  \n",
       "</tr>\n",
       "<tr>\n",
       "  <th>const</th>    <td>    1.0765</td> <td>    0.638</td> <td>    1.687</td> <td> 0.095</td> <td>   -0.190</td> <td>    2.343</td>\n",
       "</tr>\n",
       "<tr>\n",
       "  <th>log_tot</th>  <td>    0.7401</td> <td>    0.084</td> <td>    8.786</td> <td> 0.000</td> <td>    0.573</td> <td>    0.907</td>\n",
       "</tr>\n",
       "<tr>\n",
       "  <th>hhsize</th>   <td>    0.2085</td> <td>    0.125</td> <td>    1.670</td> <td> 0.098</td> <td>   -0.039</td> <td>    0.456</td>\n",
       "</tr>\n",
       "<tr>\n",
       "  <th>n_child</th>  <td>   -0.0111</td> <td>    0.022</td> <td>   -0.505</td> <td> 0.615</td> <td>   -0.055</td> <td>    0.033</td>\n",
       "</tr>\n",
       "<tr>\n",
       "  <th>hh_lntot</th> <td>   -0.0213</td> <td>    0.016</td> <td>   -1.369</td> <td> 0.174</td> <td>   -0.052</td> <td>    0.010</td>\n",
       "</tr>\n",
       "</table>\n",
       "<table class=\"simpletable\">\n",
       "<tr>\n",
       "  <th>Omnibus:</th>       <td> 5.203</td> <th>  Durbin-Watson:     </th> <td>   2.250</td>\n",
       "</tr>\n",
       "<tr>\n",
       "  <th>Prob(Omnibus):</th> <td> 0.074</td> <th>  Jarque-Bera (JB):  </th> <td>   5.387</td>\n",
       "</tr>\n",
       "<tr>\n",
       "  <th>Skew:</th>          <td>-0.314</td> <th>  Prob(JB):          </th> <td>  0.0676</td>\n",
       "</tr>\n",
       "<tr>\n",
       "  <th>Kurtosis:</th>      <td> 3.948</td> <th>  Cond. No.          </th> <td>1.30e+03</td>\n",
       "</tr>\n",
       "</table><br/><br/>Warnings:<br/>[1] Standard Errors assume that the covariance matrix of the errors is correctly specified.<br/>[2] The condition number is large, 1.3e+03. This might indicate that there are<br/>strong multicollinearity or other numerical problems."
      ],
      "text/plain": [
       "<class 'statsmodels.iolib.summary.Summary'>\n",
       "\"\"\"\n",
       "                            OLS Regression Results                            \n",
       "==============================================================================\n",
       "Dep. Variable:               food_exp   R-squared:                       0.785\n",
       "Model:                            OLS   Adj. R-squared:                  0.776\n",
       "Method:                 Least Squares   F-statistic:                     86.82\n",
       "Date:                Sun, 23 Sep 2018   Prob (F-statistic):           7.14e-31\n",
       "Time:                        16:27:27   Log-Likelihood:               -0.66496\n",
       "No. Observations:                 100   AIC:                             11.33\n",
       "Df Residuals:                      95   BIC:                             24.36\n",
       "Df Model:                           4                                         \n",
       "Covariance Type:            nonrobust                                         \n",
       "==============================================================================\n",
       "                 coef    std err          t      P>|t|      [0.025      0.975]\n",
       "------------------------------------------------------------------------------\n",
       "const          1.0765      0.638      1.687      0.095      -0.190       2.343\n",
       "log_tot        0.7401      0.084      8.786      0.000       0.573       0.907\n",
       "hhsize         0.2085      0.125      1.670      0.098      -0.039       0.456\n",
       "n_child       -0.0111      0.022     -0.505      0.615      -0.055       0.033\n",
       "hh_lntot      -0.0213      0.016     -1.369      0.174      -0.052       0.010\n",
       "==============================================================================\n",
       "Omnibus:                        5.203   Durbin-Watson:                   2.250\n",
       "Prob(Omnibus):                  0.074   Jarque-Bera (JB):                5.387\n",
       "Skew:                          -0.314   Prob(JB):                       0.0676\n",
       "Kurtosis:                       3.948   Cond. No.                     1.30e+03\n",
       "==============================================================================\n",
       "\n",
       "Warnings:\n",
       "[1] Standard Errors assume that the covariance matrix of the errors is correctly specified.\n",
       "[2] The condition number is large, 1.3e+03. This might indicate that there are\n",
       "strong multicollinearity or other numerical problems.\n",
       "\"\"\""
      ]
     },
     "execution_count": 232,
     "metadata": {},
     "output_type": "execute_result"
    }
   ],
   "source": [
    "X = data_1[['log_tot','hhsize','n_child','hh_lntot']]\n",
    "X = sm.add_constant(X)\n",
    "y = np.log(data_1[\"food_exp\"])\n",
    "model = sm.OLS(y, X).fit()\n",
    "predictions = model.predict(X)\n",
    "model.summary()"
   ]
  },
  {
   "cell_type": "code",
   "execution_count": null,
   "metadata": {},
   "outputs": [],
   "source": []
  }
 ],
 "metadata": {
  "kernelspec": {
   "display_name": "Python 3",
   "language": "python",
   "name": "python3"
  },
  "language_info": {
   "codemirror_mode": {
    "name": "ipython",
    "version": 3
   },
   "file_extension": ".py",
   "mimetype": "text/x-python",
   "name": "python",
   "nbconvert_exporter": "python",
   "pygments_lexer": "ipython3",
   "version": "3.6.5"
  }
 },
 "nbformat": 4,
 "nbformat_minor": 2
}
