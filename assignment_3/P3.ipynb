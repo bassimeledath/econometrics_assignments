{
 "cells": [
  {
   "cell_type": "code",
   "execution_count": 98,
   "metadata": {},
   "outputs": [],
   "source": [
    "import numpy as np\n",
    "import pandas as pd\n",
    "import statsmodels.api as sm\n",
    "import matplotlib.pyplot as plt\n",
    "import seaborn as sns\n",
    "from sklearn.linear_model import LinearRegression\n",
    "import plotly.graph_objs as go\n",
    "import plotly.plotly as py\n",
    "from mpl_toolkits.mplot3d import Axes3D\n",
    "from matplotlib import cm"
   ]
  },
  {
   "cell_type": "code",
   "execution_count": 99,
   "metadata": {},
   "outputs": [],
   "source": [
    "data = pd.read_stata('ps3q3.dta')\n",
    "data = data.sort_values(by=['earn'])"
   ]
  },
  {
   "cell_type": "code",
   "execution_count": 100,
   "metadata": {},
   "outputs": [
    {
     "data": {
      "text/html": [
       "<div>\n",
       "<style scoped>\n",
       "    .dataframe tbody tr th:only-of-type {\n",
       "        vertical-align: middle;\n",
       "    }\n",
       "\n",
       "    .dataframe tbody tr th {\n",
       "        vertical-align: top;\n",
       "    }\n",
       "\n",
       "    .dataframe thead th {\n",
       "        text-align: right;\n",
       "    }\n",
       "</style>\n",
       "<table border=\"1\" class=\"dataframe\">\n",
       "  <thead>\n",
       "    <tr style=\"text-align: right;\">\n",
       "      <th></th>\n",
       "      <th>award</th>\n",
       "      <th>age</th>\n",
       "      <th>earn</th>\n",
       "      <th>numchild</th>\n",
       "      <th>date</th>\n",
       "    </tr>\n",
       "  </thead>\n",
       "  <tbody>\n",
       "    <tr>\n",
       "      <th>143</th>\n",
       "      <td>42.0</td>\n",
       "      <td>67.0</td>\n",
       "      <td>3.549528</td>\n",
       "      <td>0.0</td>\n",
       "      <td>18.0</td>\n",
       "    </tr>\n",
       "    <tr>\n",
       "      <th>8</th>\n",
       "      <td>40.0</td>\n",
       "      <td>37.0</td>\n",
       "      <td>3.649597</td>\n",
       "      <td>2.0</td>\n",
       "      <td>3.0</td>\n",
       "    </tr>\n",
       "    <tr>\n",
       "      <th>17</th>\n",
       "      <td>16.0</td>\n",
       "      <td>49.0</td>\n",
       "      <td>3.649597</td>\n",
       "      <td>0.0</td>\n",
       "      <td>4.0</td>\n",
       "    </tr>\n",
       "    <tr>\n",
       "      <th>3</th>\n",
       "      <td>60.0</td>\n",
       "      <td>32.0</td>\n",
       "      <td>3.696413</td>\n",
       "      <td>3.0</td>\n",
       "      <td>2.0</td>\n",
       "    </tr>\n",
       "    <tr>\n",
       "      <th>9</th>\n",
       "      <td>32.0</td>\n",
       "      <td>57.0</td>\n",
       "      <td>3.696413</td>\n",
       "      <td>0.0</td>\n",
       "      <td>3.0</td>\n",
       "    </tr>\n",
       "  </tbody>\n",
       "</table>\n",
       "</div>"
      ],
      "text/plain": [
       "     award   age      earn  numchild  date\n",
       "143   42.0  67.0  3.549528       0.0  18.0\n",
       "8     40.0  37.0  3.649597       2.0   3.0\n",
       "17    16.0  49.0  3.649597       0.0   4.0\n",
       "3     60.0  32.0  3.696413       3.0   2.0\n",
       "9     32.0  57.0  3.696413       0.0   3.0"
      ]
     },
     "execution_count": 100,
     "metadata": {},
     "output_type": "execute_result"
    }
   ],
   "source": [
    "data.head()"
   ]
  },
  {
   "cell_type": "code",
   "execution_count": 132,
   "metadata": {},
   "outputs": [
    {
     "data": {
      "text/html": [
       "<div>\n",
       "<style scoped>\n",
       "    .dataframe tbody tr th:only-of-type {\n",
       "        vertical-align: middle;\n",
       "    }\n",
       "\n",
       "    .dataframe tbody tr th {\n",
       "        vertical-align: top;\n",
       "    }\n",
       "\n",
       "    .dataframe thead th {\n",
       "        text-align: right;\n",
       "    }\n",
       "</style>\n",
       "<table border=\"1\" class=\"dataframe\">\n",
       "  <thead>\n",
       "    <tr style=\"text-align: right;\">\n",
       "      <th></th>\n",
       "      <th>award</th>\n",
       "      <th>age</th>\n",
       "      <th>earn</th>\n",
       "      <th>numchild</th>\n",
       "      <th>date</th>\n",
       "      <th>lnaward</th>\n",
       "      <th>lnearn</th>\n",
       "      <th>lnaward_z</th>\n",
       "      <th>lnage</th>\n",
       "      <th>lnnumchild</th>\n",
       "    </tr>\n",
       "  </thead>\n",
       "  <tbody>\n",
       "    <tr>\n",
       "      <th>143</th>\n",
       "      <td>42.0</td>\n",
       "      <td>67.0</td>\n",
       "      <td>3.549528</td>\n",
       "      <td>0.0</td>\n",
       "      <td>18.0</td>\n",
       "      <td>3.737670</td>\n",
       "      <td>1.266815</td>\n",
       "      <td>-0.722505</td>\n",
       "      <td>4.204693</td>\n",
       "      <td>-inf</td>\n",
       "    </tr>\n",
       "    <tr>\n",
       "      <th>8</th>\n",
       "      <td>40.0</td>\n",
       "      <td>37.0</td>\n",
       "      <td>3.649597</td>\n",
       "      <td>2.0</td>\n",
       "      <td>3.0</td>\n",
       "      <td>3.688879</td>\n",
       "      <td>1.294617</td>\n",
       "      <td>-0.787346</td>\n",
       "      <td>3.610918</td>\n",
       "      <td>0.693147</td>\n",
       "    </tr>\n",
       "    <tr>\n",
       "      <th>17</th>\n",
       "      <td>16.0</td>\n",
       "      <td>49.0</td>\n",
       "      <td>3.649597</td>\n",
       "      <td>0.0</td>\n",
       "      <td>4.0</td>\n",
       "      <td>2.772589</td>\n",
       "      <td>1.294617</td>\n",
       "      <td>-2.005080</td>\n",
       "      <td>3.891820</td>\n",
       "      <td>-inf</td>\n",
       "    </tr>\n",
       "    <tr>\n",
       "      <th>3</th>\n",
       "      <td>60.0</td>\n",
       "      <td>32.0</td>\n",
       "      <td>3.696413</td>\n",
       "      <td>3.0</td>\n",
       "      <td>2.0</td>\n",
       "      <td>4.094345</td>\n",
       "      <td>1.307363</td>\n",
       "      <td>-0.248491</td>\n",
       "      <td>3.465736</td>\n",
       "      <td>1.098612</td>\n",
       "    </tr>\n",
       "    <tr>\n",
       "      <th>9</th>\n",
       "      <td>32.0</td>\n",
       "      <td>57.0</td>\n",
       "      <td>3.696413</td>\n",
       "      <td>0.0</td>\n",
       "      <td>3.0</td>\n",
       "      <td>3.465736</td>\n",
       "      <td>1.307363</td>\n",
       "      <td>-1.083900</td>\n",
       "      <td>4.043051</td>\n",
       "      <td>-inf</td>\n",
       "    </tr>\n",
       "  </tbody>\n",
       "</table>\n",
       "</div>"
      ],
      "text/plain": [
       "     award   age      earn  numchild  date   lnaward    lnearn  lnaward_z  \\\n",
       "143   42.0  67.0  3.549528       0.0  18.0  3.737670  1.266815  -0.722505   \n",
       "8     40.0  37.0  3.649597       2.0   3.0  3.688879  1.294617  -0.787346   \n",
       "17    16.0  49.0  3.649597       0.0   4.0  2.772589  1.294617  -2.005080   \n",
       "3     60.0  32.0  3.696413       3.0   2.0  4.094345  1.307363  -0.248491   \n",
       "9     32.0  57.0  3.696413       0.0   3.0  3.465736  1.307363  -1.083900   \n",
       "\n",
       "        lnage  lnnumchild  \n",
       "143  4.204693        -inf  \n",
       "8    3.610918    0.693147  \n",
       "17   3.891820        -inf  \n",
       "3    3.465736    1.098612  \n",
       "9    4.043051        -inf  "
      ]
     },
     "execution_count": 132,
     "metadata": {},
     "output_type": "execute_result"
    }
   ],
   "source": [
    "data.head()"
   ]
  },
  {
   "cell_type": "code",
   "execution_count": 168,
   "metadata": {},
   "outputs": [
    {
     "name": "stderr",
     "output_type": "stream",
     "text": [
      "/Users/bassim/anaconda3/lib/python3.6/site-packages/ipykernel_launcher.py:4: RuntimeWarning:\n",
      "\n",
      "divide by zero encountered in log\n",
      "\n"
     ]
    }
   ],
   "source": [
    "data['lnaward'] = np.log(data['award'])\n",
    "data['lnearn'] = np.log(data['earn'])\n",
    "data['lnage'] = np.log(data['age'])\n",
    "data['lnnumchild'] = np.log(data['numchild'])"
   ]
  },
  {
   "cell_type": "code",
   "execution_count": 171,
   "metadata": {},
   "outputs": [],
   "source": [
    "data['lnaward_z'] = ((data['lnaward'] - data['lnaward'].mean())/(data['lnaward'].std()))"
   ]
  },
  {
   "cell_type": "code",
   "execution_count": 172,
   "metadata": {},
   "outputs": [
    {
     "name": "stdout",
     "output_type": "stream",
     "text": [
      "empirical first moment of distribution ln(award) is 0.0\n",
      "empirical second moment of distribution ln(award) is 0.99\n",
      "empirical third moment of distribution ln(award) is -0.47\n",
      "empirical fourth moment of distribution ln(award) is 3.01\n"
     ]
    },
    {
     "name": "stderr",
     "output_type": "stream",
     "text": [
      "/Users/bassim/anaconda3/lib/python3.6/site-packages/matplotlib/axes/_axes.py:6462: UserWarning:\n",
      "\n",
      "The 'normed' kwarg is deprecated, and has been replaced by the 'density' kwarg.\n",
      "\n"
     ]
    },
    {
     "data": {
      "text/plain": [
       "<matplotlib.axes._subplots.AxesSubplot at 0x1c1c07ddd8>"
      ]
     },
     "execution_count": 172,
     "metadata": {},
     "output_type": "execute_result"
    },
    {
     "data": {
      "image/png": "[encoded data removed]",
      "text/plain": [
       "<Figure size 432x288 with 1 Axes>"
      ]
     },
     "metadata": {},
     "output_type": "display_data"
    }
   ],
   "source": [
    "print ('empirical first moment of distribution ln(award) is', round(sum(data['lnaward_z'])/len(data['lnaward_z']),2))\n",
    "\n",
    "print ('empirical second moment of distribution ln(award) is', round(sum((data['lnaward_z']-data['lnaward_z'].mean())**2)/len(data['lnaward_z']),2))\n",
    "\n",
    "print ('empirical third moment of distribution ln(award) is', round(sum((data['lnaward_z']-data['lnaward_z'].mean())**3)/len(data['lnaward_z']),2))\n",
    "\n",
    "print ('empirical fourth moment of distribution ln(award) is', round(sum((data['lnaward_z']-data['lnaward_z'].mean())**4)/len(data['lnaward_z']),2))\n",
    "\n",
    "plt.axvline(x=6.602580348650615e-07,c='r',alpha=0.5)\n",
    "plt.axvline(x=6.602580348650615e-07 - 9.999998e-01,c='green',alpha=0.7)\n",
    "plt.axvline(x=6.602580348650615e-07 - 2*9.999998e-01,c='purple',alpha=0.7)\n",
    "plt.axvline(x=6.602580348650615e-07 + 9.999998e-01,c='green',alpha=0.7)\n",
    "plt.axvline(x=6.602580348650615e-07 + 2*9.999998e-01,c='purple',alpha=0.7)\n",
    "sns.distplot(lnaward_z)"
   ]
  },
  {
   "cell_type": "code",
   "execution_count": 104,
   "metadata": {},
   "outputs": [
    {
     "data": {
      "text/plain": [
       "const    -0.969194\n",
       "lnearn    3.425834\n",
       "dtype: float64"
      ]
     },
     "execution_count": 104,
     "metadata": {},
     "output_type": "execute_result"
    }
   ],
   "source": [
    "# OLS estimates ln(award) and ln(earnings) for (b)\n",
    "\n",
    "Y = data['lnaward']\n",
    "X = data['lnearn']\n",
    "X = sm.add_constant(X)\n",
    "\n",
    "model = sm.OLS(Y, X).fit()\n",
    "model.params"
   ]
  },
  {
   "cell_type": "code",
   "execution_count": 105,
   "metadata": {},
   "outputs": [
    {
     "data": {
      "text/plain": [
       "Text(0.5,0,'lnearn')"
      ]
     },
     "execution_count": 105,
     "metadata": {},
     "output_type": "execute_result"
    },
    {
     "data": {
      "image/png": "[encoded data removed]",
      "text/plain": [
       "<Figure size 432x288 with 1 Axes>"
      ]
     },
     "metadata": {},
     "output_type": "display_data"
    }
   ],
   "source": [
    "plt.scatter(x=data['lnearn'],y=data['lnaward'])\n",
    "plt.plot(X, X*3.425834 - 0.969194, 'r')\n",
    "plt.ylabel('lnaward')\n",
    "plt.xlabel('lnearn')"
   ]
  },
  {
   "cell_type": "code",
   "execution_count": 106,
   "metadata": {},
   "outputs": [
    {
     "data": {
      "text/html": [
       "<table class=\"simpletable\">\n",
       "<caption>OLS Regression Results</caption>\n",
       "<tr>\n",
       "  <th>Dep. Variable:</th>         <td>lnaward</td>     <th>  R-squared:         </th> <td>   0.339</td>\n",
       "</tr>\n",
       "<tr>\n",
       "  <th>Model:</th>                   <td>OLS</td>       <th>  Adj. R-squared:    </th> <td>   0.335</td>\n",
       "</tr>\n",
       "<tr>\n",
       "  <th>Method:</th>             <td>Least Squares</td>  <th>  F-statistic:       </th> <td>   75.98</td>\n",
       "</tr>\n",
       "<tr>\n",
       "  <th>Date:</th>             <td>Sat, 06 Oct 2018</td> <th>  Prob (F-statistic):</th> <td>5.36e-15</td>\n",
       "</tr>\n",
       "<tr>\n",
       "  <th>Time:</th>                 <td>13:28:17</td>     <th>  Log-Likelihood:    </th> <td> -138.60</td>\n",
       "</tr>\n",
       "<tr>\n",
       "  <th>No. Observations:</th>      <td>   150</td>      <th>  AIC:               </th> <td>   281.2</td>\n",
       "</tr>\n",
       "<tr>\n",
       "  <th>Df Residuals:</th>          <td>   148</td>      <th>  BIC:               </th> <td>   287.2</td>\n",
       "</tr>\n",
       "<tr>\n",
       "  <th>Df Model:</th>              <td>     1</td>      <th>                     </th>     <td> </td>   \n",
       "</tr>\n",
       "<tr>\n",
       "  <th>Covariance Type:</th>      <td>nonrobust</td>    <th>                     </th>     <td> </td>   \n",
       "</tr>\n",
       "</table>\n",
       "<table class=\"simpletable\">\n",
       "<tr>\n",
       "     <td></td>       <th>coef</th>     <th>std err</th>      <th>t</th>      <th>P>|t|</th>  <th>[0.025</th>    <th>0.975]</th>  \n",
       "</tr>\n",
       "<tr>\n",
       "  <th>const</th>  <td>   -0.9692</td> <td>    0.604</td> <td>   -1.603</td> <td> 0.111</td> <td>   -2.164</td> <td>    0.225</td>\n",
       "</tr>\n",
       "<tr>\n",
       "  <th>lnearn</th> <td>    3.4258</td> <td>    0.393</td> <td>    8.717</td> <td> 0.000</td> <td>    2.649</td> <td>    4.202</td>\n",
       "</tr>\n",
       "</table>\n",
       "<table class=\"simpletable\">\n",
       "<tr>\n",
       "  <th>Omnibus:</th>       <td> 8.083</td> <th>  Durbin-Watson:     </th> <td>   2.076</td>\n",
       "</tr>\n",
       "<tr>\n",
       "  <th>Prob(Omnibus):</th> <td> 0.018</td> <th>  Jarque-Bera (JB):  </th> <td>   8.012</td>\n",
       "</tr>\n",
       "<tr>\n",
       "  <th>Skew:</th>          <td>-0.559</td> <th>  Prob(JB):          </th> <td>  0.0182</td>\n",
       "</tr>\n",
       "<tr>\n",
       "  <th>Kurtosis:</th>      <td> 3.182</td> <th>  Cond. No.          </th> <td>    26.4</td>\n",
       "</tr>\n",
       "</table><br/><br/>Warnings:<br/>[1] Standard Errors assume that the covariance matrix of the errors is correctly specified."
      ],
      "text/plain": [
       "<class 'statsmodels.iolib.summary.Summary'>\n",
       "\"\"\"\n",
       "                            OLS Regression Results                            \n",
       "==============================================================================\n",
       "Dep. Variable:                lnaward   R-squared:                       0.339\n",
       "Model:                            OLS   Adj. R-squared:                  0.335\n",
       "Method:                 Least Squares   F-statistic:                     75.98\n",
       "Date:                Sat, 06 Oct 2018   Prob (F-statistic):           5.36e-15\n",
       "Time:                        13:28:17   Log-Likelihood:                -138.60\n",
       "No. Observations:                 150   AIC:                             281.2\n",
       "Df Residuals:                     148   BIC:                             287.2\n",
       "Df Model:                           1                                         \n",
       "Covariance Type:            nonrobust                                         \n",
       "==============================================================================\n",
       "                 coef    std err          t      P>|t|      [0.025      0.975]\n",
       "------------------------------------------------------------------------------\n",
       "const         -0.9692      0.604     -1.603      0.111      -2.164       0.225\n",
       "lnearn         3.4258      0.393      8.717      0.000       2.649       4.202\n",
       "==============================================================================\n",
       "Omnibus:                        8.083   Durbin-Watson:                   2.076\n",
       "Prob(Omnibus):                  0.018   Jarque-Bera (JB):                8.012\n",
       "Skew:                          -0.559   Prob(JB):                       0.0182\n",
       "Kurtosis:                       3.182   Cond. No.                         26.4\n",
       "==============================================================================\n",
       "\n",
       "Warnings:\n",
       "[1] Standard Errors assume that the covariance matrix of the errors is correctly specified.\n",
       "\"\"\""
      ]
     },
     "execution_count": 106,
     "metadata": {},
     "output_type": "execute_result"
    }
   ],
   "source": [
    "model.summary()"
   ]
  },
  {
   "cell_type": "code",
   "execution_count": 107,
   "metadata": {},
   "outputs": [
    {
     "data": {
      "text/plain": [
       "<matplotlib.axes._subplots.AxesSubplot at 0x1c1b47fe80>"
      ]
     },
     "execution_count": 107,
     "metadata": {},
     "output_type": "execute_result"
    },
    {
     "data": {
      "image/png": "[encoded data removed]",
      "text/plain": [
       "<Figure size 432x288 with 1 Axes>"
      ]
     },
     "metadata": {},
     "output_type": "display_data"
    }
   ],
   "source": [
    "sns.residplot(data['lnearn'], data['lnaward'], lowess=False, color=\"b\")"
   ]
  },
  {
   "cell_type": "code",
   "execution_count": 110,
   "metadata": {},
   "outputs": [
    {
     "data": {
      "text/plain": [
       "const    3.855753\n",
       "date     0.041750\n",
       "dtype: float64"
      ]
     },
     "execution_count": 110,
     "metadata": {},
     "output_type": "execute_result"
    }
   ],
   "source": [
    "Y = data['lnaward']\n",
    "X = data['date']\n",
    "X = sm.add_constant(X)\n",
    "\n",
    "model = sm.OLS(Y, X).fit()\n",
    "model.params"
   ]
  },
  {
   "cell_type": "code",
   "execution_count": 111,
   "metadata": {},
   "outputs": [
    {
     "data": {
      "text/html": [
       "<table class=\"simpletable\">\n",
       "<caption>OLS Regression Results</caption>\n",
       "<tr>\n",
       "  <th>Dep. Variable:</th>         <td>lnaward</td>     <th>  R-squared:         </th> <td>   0.071</td>\n",
       "</tr>\n",
       "<tr>\n",
       "  <th>Model:</th>                   <td>OLS</td>       <th>  Adj. R-squared:    </th> <td>   0.065</td>\n",
       "</tr>\n",
       "<tr>\n",
       "  <th>Method:</th>             <td>Least Squares</td>  <th>  F-statistic:       </th> <td>   11.32</td>\n",
       "</tr>\n",
       "<tr>\n",
       "  <th>Date:</th>             <td>Sat, 06 Oct 2018</td> <th>  Prob (F-statistic):</th> <td>0.000976</td>\n",
       "</tr>\n",
       "<tr>\n",
       "  <th>Time:</th>                 <td>13:28:30</td>     <th>  Log-Likelihood:    </th> <td> -164.15</td>\n",
       "</tr>\n",
       "<tr>\n",
       "  <th>No. Observations:</th>      <td>   150</td>      <th>  AIC:               </th> <td>   332.3</td>\n",
       "</tr>\n",
       "<tr>\n",
       "  <th>Df Residuals:</th>          <td>   148</td>      <th>  BIC:               </th> <td>   338.3</td>\n",
       "</tr>\n",
       "<tr>\n",
       "  <th>Df Model:</th>              <td>     1</td>      <th>                     </th>     <td> </td>   \n",
       "</tr>\n",
       "<tr>\n",
       "  <th>Covariance Type:</th>      <td>nonrobust</td>    <th>                     </th>     <td> </td>   \n",
       "</tr>\n",
       "</table>\n",
       "<table class=\"simpletable\">\n",
       "<tr>\n",
       "    <td></td>       <th>coef</th>     <th>std err</th>      <th>t</th>      <th>P>|t|</th>  <th>[0.025</th>    <th>0.975]</th>  \n",
       "</tr>\n",
       "<tr>\n",
       "  <th>const</th> <td>    3.8558</td> <td>    0.140</td> <td>   27.593</td> <td> 0.000</td> <td>    3.580</td> <td>    4.132</td>\n",
       "</tr>\n",
       "<tr>\n",
       "  <th>date</th>  <td>    0.0417</td> <td>    0.012</td> <td>    3.365</td> <td> 0.001</td> <td>    0.017</td> <td>    0.066</td>\n",
       "</tr>\n",
       "</table>\n",
       "<table class=\"simpletable\">\n",
       "<tr>\n",
       "  <th>Omnibus:</th>       <td> 6.873</td> <th>  Durbin-Watson:     </th> <td>   1.436</td>\n",
       "</tr>\n",
       "<tr>\n",
       "  <th>Prob(Omnibus):</th> <td> 0.032</td> <th>  Jarque-Bera (JB):  </th> <td>   6.893</td>\n",
       "</tr>\n",
       "<tr>\n",
       "  <th>Skew:</th>          <td>-0.525</td> <th>  Prob(JB):          </th> <td>  0.0319</td>\n",
       "</tr>\n",
       "<tr>\n",
       "  <th>Kurtosis:</th>      <td> 3.022</td> <th>  Cond. No.          </th> <td>    26.7</td>\n",
       "</tr>\n",
       "</table><br/><br/>Warnings:<br/>[1] Standard Errors assume that the covariance matrix of the errors is correctly specified."
      ],
      "text/plain": [
       "<class 'statsmodels.iolib.summary.Summary'>\n",
       "\"\"\"\n",
       "                            OLS Regression Results                            \n",
       "==============================================================================\n",
       "Dep. Variable:                lnaward   R-squared:                       0.071\n",
       "Model:                            OLS   Adj. R-squared:                  0.065\n",
       "Method:                 Least Squares   F-statistic:                     11.32\n",
       "Date:                Sat, 06 Oct 2018   Prob (F-statistic):           0.000976\n",
       "Time:                        13:28:30   Log-Likelihood:                -164.15\n",
       "No. Observations:                 150   AIC:                             332.3\n",
       "Df Residuals:                     148   BIC:                             338.3\n",
       "Df Model:                           1                                         \n",
       "Covariance Type:            nonrobust                                         \n",
       "==============================================================================\n",
       "                 coef    std err          t      P>|t|      [0.025      0.975]\n",
       "------------------------------------------------------------------------------\n",
       "const          3.8558      0.140     27.593      0.000       3.580       4.132\n",
       "date           0.0417      0.012      3.365      0.001       0.017       0.066\n",
       "==============================================================================\n",
       "Omnibus:                        6.873   Durbin-Watson:                   1.436\n",
       "Prob(Omnibus):                  0.032   Jarque-Bera (JB):                6.893\n",
       "Skew:                          -0.525   Prob(JB):                       0.0319\n",
       "Kurtosis:                       3.022   Cond. No.                         26.7\n",
       "==============================================================================\n",
       "\n",
       "Warnings:\n",
       "[1] Standard Errors assume that the covariance matrix of the errors is correctly specified.\n",
       "\"\"\""
      ]
     },
     "execution_count": 111,
     "metadata": {},
     "output_type": "execute_result"
    }
   ],
   "source": [
    "model.summary()"
   ]
  },
  {
   "cell_type": "code",
   "execution_count": 112,
   "metadata": {},
   "outputs": [
    {
     "data": {
      "text/plain": [
       "[<matplotlib.lines.Line2D at 0x1c1b4bceb8>,\n",
       " <matplotlib.lines.Line2D at 0x1c1b789048>]"
      ]
     },
     "execution_count": 112,
     "metadata": {},
     "output_type": "execute_result"
    },
    {
     "data": {
      "image/png": "[encoded data removed]",
      "text/plain": [
       "<Figure size 432x288 with 1 Axes>"
      ]
     },
     "metadata": {},
     "output_type": "display_data"
    }
   ],
   "source": [
    "plt.scatter(data['date'],data['lnaward'])\n",
    "plt.plot(X, X*0.041750 + 3.855753, 'r')"
   ]
  },
  {
   "cell_type": "code",
   "execution_count": 122,
   "metadata": {},
   "outputs": [
    {
     "data": {
      "text/plain": [
       "const    -0.933447\n",
       "lnearn    3.241179\n",
       "date      0.024257\n",
       "dtype: float64"
      ]
     },
     "execution_count": 122,
     "metadata": {},
     "output_type": "execute_result"
    }
   ],
   "source": [
    "X = data[['lnearn','date']]\n",
    "X = sm.add_constant(X)\n",
    "y = data['lnaward']\n",
    "model = sm.OLS(y, X).fit()\n",
    "model.params"
   ]
  },
  {
   "cell_type": "code",
   "execution_count": 124,
   "metadata": {},
   "outputs": [
    {
     "data": {
      "text/plain": [
       "const      2.906034\n",
       "lnaward    1.702114\n",
       "dtype: float64"
      ]
     },
     "execution_count": 124,
     "metadata": {},
     "output_type": "execute_result"
    }
   ],
   "source": [
    "Y = data['date']\n",
    "X = data['lnaward']\n",
    "X = sm.add_constant(X)\n",
    "\n",
    "model = sm.OLS(Y, X).fit()\n",
    "model.params"
   ]
  },
  {
   "cell_type": "code",
   "execution_count": 126,
   "metadata": {},
   "outputs": [
    {
     "data": {
      "text/plain": [
       "const     1.650718\n",
       "lnearn    3.216847\n",
       "date      0.023993\n",
       "lnage    -0.691252\n",
       "dtype: float64"
      ]
     },
     "execution_count": 126,
     "metadata": {},
     "output_type": "execute_result"
    }
   ],
   "source": [
    "X = data[['lnearn','date','lnage']]\n",
    "X = sm.add_constant(X)\n",
    "y = data['lnaward']\n",
    "model = sm.OLS(y, X).fit()\n",
    "model.params"
   ]
  },
  {
   "cell_type": "code",
   "execution_count": 127,
   "metadata": {},
   "outputs": [
    {
     "data": {
      "text/plain": [
       "const     3.738945\n",
       "lnearn   -0.038105\n",
       "dtype: float64"
      ]
     },
     "execution_count": 127,
     "metadata": {},
     "output_type": "execute_result"
    }
   ],
   "source": [
    "Y = data['lnage']\n",
    "X = data['lnearn']\n",
    "X = sm.add_constant(X)\n",
    "\n",
    "model = sm.OLS(Y, X).fit()\n",
    "model.params"
   ]
  },
  {
   "cell_type": "code",
   "execution_count": 159,
   "metadata": {},
   "outputs": [
    {
     "data": {
      "text/plain": [
       "const       0.961139\n",
       "lnearn      3.190109\n",
       "date        0.021288\n",
       "lnage      -0.532886\n",
       "numchild    0.093226\n",
       "dtype: float64"
      ]
     },
     "execution_count": 159,
     "metadata": {},
     "output_type": "execute_result"
    }
   ],
   "source": [
    "# adding numchild\n",
    "\n",
    "X = data[['lnearn','date','lnage','numchild']]\n",
    "X = sm.add_constant(X)\n",
    "y = data['lnaward']\n",
    "model = sm.OLS(y, X).fit()\n",
    "model.params"
   ]
  },
  {
   "cell_type": "code",
   "execution_count": 177,
   "metadata": {},
   "outputs": [
    {
     "data": {
      "text/plain": [
       "<matplotlib.collections.PathCollection at 0x1c1c41f208>"
      ]
     },
     "execution_count": 177,
     "metadata": {},
     "output_type": "execute_result"
    },
    {
     "data": {
      "image/png": "[encoded data removed]",
      "text/plain": [
       "<Figure size 432x288 with 1 Axes>"
      ]
     },
     "metadata": {},
     "output_type": "display_data"
    }
   ],
   "source": [
    "# predicted residual vs lnearn\n",
    "\n",
    "plt.scatter(model.resid,data['ln'])"
   ]
  },
  {
   "cell_type": "code",
   "execution_count": 176,
   "metadata": {},
   "outputs": [
    {
     "data": {
      "text/plain": [
       "(array([ 2.,  3.,  6., 17., 29., 41., 39., 11.,  1.,  1.]),\n",
       " array([-1.82184703, -1.47399686, -1.12614668, -0.7782965 , -0.43044632,\n",
       "        -0.08259614,  0.26525404,  0.61310422,  0.9609544 ,  1.30880458,\n",
       "         1.65665476]),\n",
       " <a list of 10 Patch objects>)"
      ]
     },
     "execution_count": 176,
     "metadata": {},
     "output_type": "execute_result"
    },
    {
     "data": {
      "image/png": "[encoded data removed]",
      "text/plain": [
       "<Figure size 432x288 with 1 Axes>"
      ]
     },
     "metadata": {},
     "output_type": "display_data"
    }
   ],
   "source": [
    "plt.hist(model.resid)"
   ]
  },
  {
   "cell_type": "code",
   "execution_count": 182,
   "metadata": {},
   "outputs": [],
   "source": [
    "model_resid = ((model.resid - model.resid.mean())/(model.resid.std()))"
   ]
  },
  {
   "cell_type": "code",
   "execution_count": 186,
   "metadata": {},
   "outputs": [
    {
     "name": "stdout",
     "output_type": "stream",
     "text": [
      "empirical first moment of distribution ln(award) is 0\n",
      "empirical second moment of distribution ln(award) is 0.99\n",
      "empirical third moment of distribution ln(award) is -0.48\n",
      "empirical fourth moment of distribution ln(award) is 0.0\n"
     ]
    }
   ],
   "source": [
    "print ('empirical first moment of distribution ln(award) is', round(sum(model_resid)/len(model_resid)))\n",
    "\n",
    "print ('empirical second moment of distribution ln(award) is', round(sum((model_resid-model_resid.mean())**2)/len(model_resid),2))\n",
    "\n",
    "print ('empirical third moment of distribution ln(award) is', round(sum((model_resid-model_resid.mean())**3)/len(model_resid),2))\n",
    "\n",
    "print ('empirical fourth moment of distribution ln(award) is', round(sum((model_resid-model_resid)**4)/len(model_resid),2))"
   ]
  },
  {
   "cell_type": "code",
   "execution_count": 129,
   "metadata": {},
   "outputs": [
    {
     "name": "stderr",
     "output_type": "stream",
     "text": [
      "/Users/bassim/anaconda3/lib/python3.6/site-packages/matplotlib/axes/_axes.py:6462: UserWarning:\n",
      "\n",
      "The 'normed' kwarg is deprecated, and has been replaced by the 'density' kwarg.\n",
      "\n"
     ]
    },
    {
     "data": {
      "text/plain": [
       "<matplotlib.axes._subplots.AxesSubplot at 0x1c1b8dae10>"
      ]
     },
     "execution_count": 129,
     "metadata": {},
     "output_type": "execute_result"
    },
    {
     "data": {
      "image/png": "[encoded data removed]",
      "text/plain": [
       "<Figure size 432x288 with 1 Axes>"
      ]
     },
     "metadata": {},
     "output_type": "display_data"
    }
   ],
   "source": [
    "sns.distplot(data['numchild'])"
   ]
  },
  {
   "cell_type": "code",
   "execution_count": null,
   "metadata": {},
   "outputs": [],
   "source": []
  },
  {
   "cell_type": "code",
   "execution_count": 134,
   "metadata": {},
   "outputs": [],
   "source": [
    "data['numchild_z'] = (data['numchild'] - data['numchild'].mean())/data['numchild'].std()"
   ]
  },
  {
   "cell_type": "code",
   "execution_count": 136,
   "metadata": {},
   "outputs": [
    {
     "name": "stderr",
     "output_type": "stream",
     "text": [
      "/Users/bassim/anaconda3/lib/python3.6/site-packages/matplotlib/axes/_axes.py:6462: UserWarning:\n",
      "\n",
      "The 'normed' kwarg is deprecated, and has been replaced by the 'density' kwarg.\n",
      "\n"
     ]
    },
    {
     "data": {
      "text/plain": [
       "<matplotlib.axes._subplots.AxesSubplot at 0x1c1b8ce780>"
      ]
     },
     "execution_count": 136,
     "metadata": {},
     "output_type": "execute_result"
    },
    {
     "data": {
      "image/png": "[encoded data removed]",
      "text/plain": [
       "<Figure size 432x288 with 1 Axes>"
      ]
     },
     "metadata": {},
     "output_type": "display_data"
    }
   ],
   "source": [
    "sns.distplot(data['numchild_z'])"
   ]
  },
  {
   "cell_type": "code",
   "execution_count": 135,
   "metadata": {},
   "outputs": [
    {
     "name": "stdout",
     "output_type": "stream",
     "text": [
      "empirical first moment of distribution ln(award) is 0.0\n",
      "empirical second moment of distribution ln(award) is 0.99\n",
      "empirical third moment of distribution ln(award) is 1.09\n",
      "empirical fourth moment of distribution ln(award) is 4.56\n"
     ]
    }
   ],
   "source": [
    "print ('empirical first moment of distribution ln(award) is', round(sum(data['numchild_z'])/len(data['numchild_z']),2))\n",
    "\n",
    "print ('empirical second moment of distribution ln(award) is', round(sum((data['numchild_z']-data['numchild_z'].mean())**2)/len(data['numchild_z']),2))\n",
    "\n",
    "print ('empirical third moment of distribution ln(award) is', round(sum((data['numchild_z']-data['numchild_z'].mean())**3)/len(data['numchild_z']),2))\n",
    "\n",
    "print ('empirical fourth moment of distribution ln(award) is', round(sum((data['numchild_z']-data['numchild_z'].mean())**4)/len(data['numchild_z']),2))"
   ]
  },
  {
   "cell_type": "code",
   "execution_count": 147,
   "metadata": {},
   "outputs": [],
   "source": [
    "data['lnnumchild'] = data['lnnumchild'].clip(lower=0)"
   ]
  },
  {
   "cell_type": "code",
   "execution_count": 148,
   "metadata": {},
   "outputs": [
    {
     "name": "stderr",
     "output_type": "stream",
     "text": [
      "/Users/bassim/anaconda3/lib/python3.6/site-packages/matplotlib/axes/_axes.py:6462: UserWarning:\n",
      "\n",
      "The 'normed' kwarg is deprecated, and has been replaced by the 'density' kwarg.\n",
      "\n"
     ]
    },
    {
     "data": {
      "text/plain": [
       "<matplotlib.axes._subplots.AxesSubplot at 0x1c1bab1e10>"
      ]
     },
     "execution_count": 148,
     "metadata": {},
     "output_type": "execute_result"
    },
    {
     "data": {
      "image/png": "[encoded data removed]",
      "text/plain": [
       "<Figure size 432x288 with 1 Axes>"
      ]
     },
     "metadata": {},
     "output_type": "display_data"
    }
   ],
   "source": [
    "sns.distplot(data['lnnumchild'])"
   ]
  },
  {
   "cell_type": "code",
   "execution_count": null,
   "metadata": {},
   "outputs": [],
   "source": []
  }
 ],
 "metadata": {
  "kernelspec": {
   "display_name": "Python 3",
   "language": "python",
   "name": "python3"
  },
  "language_info": {
   "codemirror_mode": {
    "name": "ipython",
    "version": 3
   },
   "file_extension": ".py",
   "mimetype": "text/x-python",
   "name": "python",
   "nbconvert_exporter": "python",
   "pygments_lexer": "ipython3",
   "version": "3.6.5"
  }
 },
 "nbformat": 4,
 "nbformat_minor": 2
}
