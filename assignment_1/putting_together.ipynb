{
 "cells": [
  {
   "cell_type": "code",
   "execution_count": 1,
   "metadata": {},
   "outputs": [],
   "source": [
    "import pandas as pd\n",
    "import numpy as np\n",
    "import statsmodels.api as sm\n",
    "import matplotlib.pyplot as plt\n",
    "import seaborn as sns"
   ]
  },
  {
   "cell_type": "code",
   "execution_count": 2,
   "metadata": {},
   "outputs": [],
   "source": [
    "data_2 = pd.read_stata('ps1q2.dta')\n",
    "data_2.drop(['HseInd','SenInd'],axis=1,inplace=True)"
   ]
  },
  {
   "cell_type": "code",
   "execution_count": 7,
   "metadata": {},
   "outputs": [
    {
     "data": {
      "text/plain": [
       "0.4609298994351105"
      ]
     },
     "execution_count": 7,
     "metadata": {},
     "output_type": "execute_result"
    }
   ],
   "source": [
    "# correlation coefficient between SenDem and Tax20\n",
    "\n",
    "np.corrcoef(data_2[\"SenDem\"]/100, data_2[\"Tax20\"]/8)[0, 1]"
   ]
  },
  {
   "cell_type": "code",
   "execution_count": 166,
   "metadata": {},
   "outputs": [
    {
     "data": {
      "text/plain": [
       "const     15.863625\n",
       "SenDem     0.308719\n",
       "dtype: float64"
      ]
     },
     "execution_count": 166,
     "metadata": {},
     "output_type": "execute_result"
    }
   ],
   "source": [
    "# OLS estimates of a0 a1\n",
    "\n",
    "Y = data_2[\"Tax20\"]\n",
    "X = data_2[\"SenDem\"]\n",
    "X = sm.add_constant(X)\n",
    "model = sm.OLS(Y,X)\n",
    "results = model.fit()\n",
    "results.params"
   ]
  },
  {
   "cell_type": "code",
   "execution_count": 167,
   "metadata": {},
   "outputs": [
    {
     "data": {
      "text/plain": [
       "[<matplotlib.lines.Line2D at 0x1c235e1128>,\n",
       " <matplotlib.lines.Line2D at 0x1c235e12b0>]"
      ]
     },
     "execution_count": 167,
     "metadata": {},
     "output_type": "execute_result"
    },
    {
     "data": {
      "image/png": "[encoded data removed]",
      "text/plain": [
       "<Figure size 432x288 with 1 Axes>"
      ]
     },
     "metadata": {},
     "output_type": "display_data"
    }
   ],
   "source": [
    "plt.scatter(data_2[\"SenDem\"],data_2[\"Tax20\"])\n",
    "plt.plot(X, X*0.308719 + 15.863625, 'r')"
   ]
  },
  {
   "cell_type": "code",
   "execution_count": 178,
   "metadata": {},
   "outputs": [
    {
     "data": {
      "text/plain": [
       "const     15.863625\n",
       "SenDem     0.308719\n",
       "dtype: float64"
      ]
     },
     "execution_count": 178,
     "metadata": {},
     "output_type": "execute_result"
    }
   ],
   "source": [
    "# OLS estimates of b0 b1\n",
    "Y = data_2[\"Tax20\"]\n",
    "X = data_2[\"SenDem\"]\n",
    "X = sm.add_constant(X)\n",
    "model = sm.OLS(Y,X)\n",
    "results = model.fit()\n",
    "results.params"
   ]
  },
  {
   "cell_type": "code",
   "execution_count": 10,
   "metadata": {},
   "outputs": [
    {
     "data": {
      "text/plain": [
       "const     3.144146\n",
       "HseDem   -0.000009\n",
       "dtype: float64"
      ]
     },
     "execution_count": 10,
     "metadata": {},
     "output_type": "execute_result"
    }
   ],
   "source": [
    "# OLS estimates of y0 y1\n",
    "Y = data_2[\"Tax20\"]/10\n",
    "X = (data_2[\"HseDem\"])\n",
    "X = sm.add_constant(X)\n",
    "model = sm.OLS(Y,X)\n",
    "results = model.fit()\n",
    "results.params"
   ]
  },
  {
   "cell_type": "code",
   "execution_count": null,
   "metadata": {},
   "outputs": [],
   "source": []
  },
  {
   "cell_type": "code",
   "execution_count": 199,
   "metadata": {},
   "outputs": [
    {
     "data": {
      "text/html": [
       "<div>\n",
       "<style scoped>\n",
       "    .dataframe tbody tr th:only-of-type {\n",
       "        vertical-align: middle;\n",
       "    }\n",
       "\n",
       "    .dataframe tbody tr th {\n",
       "        vertical-align: top;\n",
       "    }\n",
       "\n",
       "    .dataframe thead th {\n",
       "        text-align: right;\n",
       "    }\n",
       "</style>\n",
       "<table border=\"1\" class=\"dataframe\">\n",
       "  <thead>\n",
       "    <tr style=\"text-align: right;\">\n",
       "      <th></th>\n",
       "      <th>Year</th>\n",
       "      <th>Tax20</th>\n",
       "      <th>TaxAv</th>\n",
       "      <th>SenDem</th>\n",
       "      <th>SenRep</th>\n",
       "      <th>HseDem</th>\n",
       "      <th>HseRep</th>\n",
       "      <th>President</th>\n",
       "      <th>HseDem_</th>\n",
       "    </tr>\n",
       "  </thead>\n",
       "  <tbody>\n",
       "    <tr>\n",
       "      <th>0</th>\n",
       "      <td>1979</td>\n",
       "      <td>35.099998</td>\n",
       "      <td>22.000000</td>\n",
       "      <td>58</td>\n",
       "      <td>41</td>\n",
       "      <td>277</td>\n",
       "      <td>158</td>\n",
       "      <td>Jimmy Carter</td>\n",
       "      <td>63.678161</td>\n",
       "    </tr>\n",
       "    <tr>\n",
       "      <th>1</th>\n",
       "      <td>1980</td>\n",
       "      <td>33.099998</td>\n",
       "      <td>22.000000</td>\n",
       "      <td>58</td>\n",
       "      <td>41</td>\n",
       "      <td>277</td>\n",
       "      <td>158</td>\n",
       "      <td>Jimmy Carter</td>\n",
       "      <td>63.678161</td>\n",
       "    </tr>\n",
       "    <tr>\n",
       "      <th>2</th>\n",
       "      <td>1981</td>\n",
       "      <td>30.400000</td>\n",
       "      <td>22.200001</td>\n",
       "      <td>46</td>\n",
       "      <td>53</td>\n",
       "      <td>242</td>\n",
       "      <td>192</td>\n",
       "      <td>Ronald Reagan</td>\n",
       "      <td>55.632184</td>\n",
       "    </tr>\n",
       "    <tr>\n",
       "      <th>3</th>\n",
       "      <td>1982</td>\n",
       "      <td>26.700001</td>\n",
       "      <td>20.500000</td>\n",
       "      <td>46</td>\n",
       "      <td>53</td>\n",
       "      <td>242</td>\n",
       "      <td>192</td>\n",
       "      <td>Ronald Reagan</td>\n",
       "      <td>55.632184</td>\n",
       "    </tr>\n",
       "    <tr>\n",
       "      <th>4</th>\n",
       "      <td>1983</td>\n",
       "      <td>26.700001</td>\n",
       "      <td>20.200001</td>\n",
       "      <td>46</td>\n",
       "      <td>54</td>\n",
       "      <td>269</td>\n",
       "      <td>166</td>\n",
       "      <td>Ronald Reagan</td>\n",
       "      <td>61.839080</td>\n",
       "    </tr>\n",
       "    <tr>\n",
       "      <th>5</th>\n",
       "      <td>1984</td>\n",
       "      <td>27.000000</td>\n",
       "      <td>20.600000</td>\n",
       "      <td>46</td>\n",
       "      <td>54</td>\n",
       "      <td>269</td>\n",
       "      <td>166</td>\n",
       "      <td>Ronald Reagan</td>\n",
       "      <td>61.839080</td>\n",
       "    </tr>\n",
       "    <tr>\n",
       "      <th>6</th>\n",
       "      <td>1985</td>\n",
       "      <td>26.100000</td>\n",
       "      <td>20.700001</td>\n",
       "      <td>47</td>\n",
       "      <td>53</td>\n",
       "      <td>253</td>\n",
       "      <td>182</td>\n",
       "      <td>Ronald Reagan</td>\n",
       "      <td>58.160920</td>\n",
       "    </tr>\n",
       "    <tr>\n",
       "      <th>7</th>\n",
       "      <td>1986</td>\n",
       "      <td>24.600000</td>\n",
       "      <td>20.600000</td>\n",
       "      <td>47</td>\n",
       "      <td>53</td>\n",
       "      <td>253</td>\n",
       "      <td>182</td>\n",
       "      <td>Ronald Reagan</td>\n",
       "      <td>58.160920</td>\n",
       "    </tr>\n",
       "    <tr>\n",
       "      <th>8</th>\n",
       "      <td>1987</td>\n",
       "      <td>33.299999</td>\n",
       "      <td>21.299999</td>\n",
       "      <td>55</td>\n",
       "      <td>45</td>\n",
       "      <td>258</td>\n",
       "      <td>177</td>\n",
       "      <td>Ronald Reagan</td>\n",
       "      <td>59.310345</td>\n",
       "    </tr>\n",
       "    <tr>\n",
       "      <th>9</th>\n",
       "      <td>1988</td>\n",
       "      <td>32.000000</td>\n",
       "      <td>21.500000</td>\n",
       "      <td>55</td>\n",
       "      <td>45</td>\n",
       "      <td>258</td>\n",
       "      <td>177</td>\n",
       "      <td>Ronald Reagan</td>\n",
       "      <td>59.310345</td>\n",
       "    </tr>\n",
       "    <tr>\n",
       "      <th>10</th>\n",
       "      <td>1989</td>\n",
       "      <td>34.299999</td>\n",
       "      <td>21.200001</td>\n",
       "      <td>55</td>\n",
       "      <td>45</td>\n",
       "      <td>260</td>\n",
       "      <td>175</td>\n",
       "      <td>George H. W. Bush</td>\n",
       "      <td>59.770115</td>\n",
       "    </tr>\n",
       "    <tr>\n",
       "      <th>11</th>\n",
       "      <td>1990</td>\n",
       "      <td>34.099998</td>\n",
       "      <td>21.200001</td>\n",
       "      <td>55</td>\n",
       "      <td>45</td>\n",
       "      <td>260</td>\n",
       "      <td>175</td>\n",
       "      <td>George H. W. Bush</td>\n",
       "      <td>59.770115</td>\n",
       "    </tr>\n",
       "    <tr>\n",
       "      <th>12</th>\n",
       "      <td>1991</td>\n",
       "      <td>35.099998</td>\n",
       "      <td>21.100000</td>\n",
       "      <td>56</td>\n",
       "      <td>44</td>\n",
       "      <td>267</td>\n",
       "      <td>167</td>\n",
       "      <td>George H. W. Bush</td>\n",
       "      <td>61.379310</td>\n",
       "    </tr>\n",
       "    <tr>\n",
       "      <th>13</th>\n",
       "      <td>1992</td>\n",
       "      <td>33.000000</td>\n",
       "      <td>21.100000</td>\n",
       "      <td>56</td>\n",
       "      <td>44</td>\n",
       "      <td>267</td>\n",
       "      <td>167</td>\n",
       "      <td>George H. W. Bush</td>\n",
       "      <td>61.379310</td>\n",
       "    </tr>\n",
       "    <tr>\n",
       "      <th>14</th>\n",
       "      <td>1993</td>\n",
       "      <td>36.500000</td>\n",
       "      <td>21.600000</td>\n",
       "      <td>57</td>\n",
       "      <td>43</td>\n",
       "      <td>258</td>\n",
       "      <td>176</td>\n",
       "      <td>Bill Clinton</td>\n",
       "      <td>59.310345</td>\n",
       "    </tr>\n",
       "    <tr>\n",
       "      <th>15</th>\n",
       "      <td>1994</td>\n",
       "      <td>37.799999</td>\n",
       "      <td>21.900000</td>\n",
       "      <td>57</td>\n",
       "      <td>43</td>\n",
       "      <td>258</td>\n",
       "      <td>176</td>\n",
       "      <td>Bill Clinton</td>\n",
       "      <td>59.310345</td>\n",
       "    </tr>\n",
       "    <tr>\n",
       "      <th>16</th>\n",
       "      <td>1995</td>\n",
       "      <td>35.299999</td>\n",
       "      <td>22.100000</td>\n",
       "      <td>48</td>\n",
       "      <td>52</td>\n",
       "      <td>204</td>\n",
       "      <td>230</td>\n",
       "      <td>Bill Clinton</td>\n",
       "      <td>46.896552</td>\n",
       "    </tr>\n",
       "    <tr>\n",
       "      <th>17</th>\n",
       "      <td>1996</td>\n",
       "      <td>35.200001</td>\n",
       "      <td>22.299999</td>\n",
       "      <td>48</td>\n",
       "      <td>52</td>\n",
       "      <td>204</td>\n",
       "      <td>230</td>\n",
       "      <td>Bill Clinton</td>\n",
       "      <td>46.896552</td>\n",
       "    </tr>\n",
       "    <tr>\n",
       "      <th>18</th>\n",
       "      <td>1997</td>\n",
       "      <td>34.099998</td>\n",
       "      <td>22.600000</td>\n",
       "      <td>45</td>\n",
       "      <td>55</td>\n",
       "      <td>207</td>\n",
       "      <td>226</td>\n",
       "      <td>Bill Clinton</td>\n",
       "      <td>47.586207</td>\n",
       "    </tr>\n",
       "    <tr>\n",
       "      <th>19</th>\n",
       "      <td>1998</td>\n",
       "      <td>32.599998</td>\n",
       "      <td>22.299999</td>\n",
       "      <td>45</td>\n",
       "      <td>55</td>\n",
       "      <td>207</td>\n",
       "      <td>226</td>\n",
       "      <td>Bill Clinton</td>\n",
       "      <td>47.586207</td>\n",
       "    </tr>\n",
       "    <tr>\n",
       "      <th>20</th>\n",
       "      <td>1999</td>\n",
       "      <td>32.799999</td>\n",
       "      <td>22.600000</td>\n",
       "      <td>45</td>\n",
       "      <td>55</td>\n",
       "      <td>211</td>\n",
       "      <td>223</td>\n",
       "      <td>Bill Clinton</td>\n",
       "      <td>48.505747</td>\n",
       "    </tr>\n",
       "    <tr>\n",
       "      <th>21</th>\n",
       "      <td>2000</td>\n",
       "      <td>32.400002</td>\n",
       "      <td>22.700001</td>\n",
       "      <td>45</td>\n",
       "      <td>55</td>\n",
       "      <td>211</td>\n",
       "      <td>223</td>\n",
       "      <td>Bill Clinton</td>\n",
       "      <td>48.505747</td>\n",
       "    </tr>\n",
       "    <tr>\n",
       "      <th>22</th>\n",
       "      <td>2001</td>\n",
       "      <td>32.099998</td>\n",
       "      <td>21.000000</td>\n",
       "      <td>50</td>\n",
       "      <td>49</td>\n",
       "      <td>212</td>\n",
       "      <td>221</td>\n",
       "      <td>George W. Bush</td>\n",
       "      <td>48.735632</td>\n",
       "    </tr>\n",
       "    <tr>\n",
       "      <th>23</th>\n",
       "      <td>2002</td>\n",
       "      <td>32.000000</td>\n",
       "      <td>20.299999</td>\n",
       "      <td>50</td>\n",
       "      <td>49</td>\n",
       "      <td>212</td>\n",
       "      <td>221</td>\n",
       "      <td>George W. Bush</td>\n",
       "      <td>48.735632</td>\n",
       "    </tr>\n",
       "    <tr>\n",
       "      <th>24</th>\n",
       "      <td>2003</td>\n",
       "      <td>30.400000</td>\n",
       "      <td>19.400000</td>\n",
       "      <td>48</td>\n",
       "      <td>51</td>\n",
       "      <td>205</td>\n",
       "      <td>229</td>\n",
       "      <td>George W. Bush</td>\n",
       "      <td>47.126437</td>\n",
       "    </tr>\n",
       "    <tr>\n",
       "      <th>25</th>\n",
       "      <td>2004</td>\n",
       "      <td>30.100000</td>\n",
       "      <td>19.600000</td>\n",
       "      <td>48</td>\n",
       "      <td>51</td>\n",
       "      <td>205</td>\n",
       "      <td>229</td>\n",
       "      <td>George W. Bush</td>\n",
       "      <td>47.126437</td>\n",
       "    </tr>\n",
       "    <tr>\n",
       "      <th>26</th>\n",
       "      <td>2005</td>\n",
       "      <td>30.400000</td>\n",
       "      <td>20.100000</td>\n",
       "      <td>44</td>\n",
       "      <td>55</td>\n",
       "      <td>202</td>\n",
       "      <td>231</td>\n",
       "      <td>George W. Bush</td>\n",
       "      <td>46.436782</td>\n",
       "    </tr>\n",
       "    <tr>\n",
       "      <th>27</th>\n",
       "      <td>2006</td>\n",
       "      <td>30.000000</td>\n",
       "      <td>20.299999</td>\n",
       "      <td>44</td>\n",
       "      <td>55</td>\n",
       "      <td>202</td>\n",
       "      <td>231</td>\n",
       "      <td>George W. Bush</td>\n",
       "      <td>46.436782</td>\n",
       "    </tr>\n",
       "    <tr>\n",
       "      <th>28</th>\n",
       "      <td>2007</td>\n",
       "      <td>28.299999</td>\n",
       "      <td>19.900000</td>\n",
       "      <td>49</td>\n",
       "      <td>49</td>\n",
       "      <td>236</td>\n",
       "      <td>199</td>\n",
       "      <td>George W. Bush</td>\n",
       "      <td>54.252874</td>\n",
       "    </tr>\n",
       "    <tr>\n",
       "      <th>29</th>\n",
       "      <td>2008</td>\n",
       "      <td>28.100000</td>\n",
       "      <td>18.000000</td>\n",
       "      <td>49</td>\n",
       "      <td>49</td>\n",
       "      <td>236</td>\n",
       "      <td>199</td>\n",
       "      <td>George W. Bush</td>\n",
       "      <td>54.252874</td>\n",
       "    </tr>\n",
       "    <tr>\n",
       "      <th>30</th>\n",
       "      <td>2009</td>\n",
       "      <td>28.900000</td>\n",
       "      <td>17.299999</td>\n",
       "      <td>57</td>\n",
       "      <td>41</td>\n",
       "      <td>257</td>\n",
       "      <td>178</td>\n",
       "      <td>Barack Obama</td>\n",
       "      <td>59.080460</td>\n",
       "    </tr>\n",
       "    <tr>\n",
       "      <th>31</th>\n",
       "      <td>2010</td>\n",
       "      <td>29.400000</td>\n",
       "      <td>18.100000</td>\n",
       "      <td>57</td>\n",
       "      <td>41</td>\n",
       "      <td>257</td>\n",
       "      <td>178</td>\n",
       "      <td>Barack Obama</td>\n",
       "      <td>59.080460</td>\n",
       "    </tr>\n",
       "    <tr>\n",
       "      <th>32</th>\n",
       "      <td>2011</td>\n",
       "      <td>29.000000</td>\n",
       "      <td>17.600000</td>\n",
       "      <td>51</td>\n",
       "      <td>47</td>\n",
       "      <td>193</td>\n",
       "      <td>242</td>\n",
       "      <td>Barack Obama</td>\n",
       "      <td>44.367816</td>\n",
       "    </tr>\n",
       "  </tbody>\n",
       "</table>\n",
       "</div>"
      ],
      "text/plain": [
       "    Year      Tax20      TaxAv  SenDem  SenRep  HseDem  HseRep  \\\n",
       "0   1979  35.099998  22.000000      58      41     277     158   \n",
       "1   1980  33.099998  22.000000      58      41     277     158   \n",
       "2   1981  30.400000  22.200001      46      53     242     192   \n",
       "3   1982  26.700001  20.500000      46      53     242     192   \n",
       "4   1983  26.700001  20.200001      46      54     269     166   \n",
       "5   1984  27.000000  20.600000      46      54     269     166   \n",
       "6   1985  26.100000  20.700001      47      53     253     182   \n",
       "7   1986  24.600000  20.600000      47      53     253     182   \n",
       "8   1987  33.299999  21.299999      55      45     258     177   \n",
       "9   1988  32.000000  21.500000      55      45     258     177   \n",
       "10  1989  34.299999  21.200001      55      45     260     175   \n",
       "11  1990  34.099998  21.200001      55      45     260     175   \n",
       "12  1991  35.099998  21.100000      56      44     267     167   \n",
       "13  1992  33.000000  21.100000      56      44     267     167   \n",
       "14  1993  36.500000  21.600000      57      43     258     176   \n",
       "15  1994  37.799999  21.900000      57      43     258     176   \n",
       "16  1995  35.299999  22.100000      48      52     204     230   \n",
       "17  1996  35.200001  22.299999      48      52     204     230   \n",
       "18  1997  34.099998  22.600000      45      55     207     226   \n",
       "19  1998  32.599998  22.299999      45      55     207     226   \n",
       "20  1999  32.799999  22.600000      45      55     211     223   \n",
       "21  2000  32.400002  22.700001      45      55     211     223   \n",
       "22  2001  32.099998  21.000000      50      49     212     221   \n",
       "23  2002  32.000000  20.299999      50      49     212     221   \n",
       "24  2003  30.400000  19.400000      48      51     205     229   \n",
       "25  2004  30.100000  19.600000      48      51     205     229   \n",
       "26  2005  30.400000  20.100000      44      55     202     231   \n",
       "27  2006  30.000000  20.299999      44      55     202     231   \n",
       "28  2007  28.299999  19.900000      49      49     236     199   \n",
       "29  2008  28.100000  18.000000      49      49     236     199   \n",
       "30  2009  28.900000  17.299999      57      41     257     178   \n",
       "31  2010  29.400000  18.100000      57      41     257     178   \n",
       "32  2011  29.000000  17.600000      51      47     193     242   \n",
       "\n",
       "            President    HseDem_  \n",
       "0        Jimmy Carter  63.678161  \n",
       "1        Jimmy Carter  63.678161  \n",
       "2       Ronald Reagan  55.632184  \n",
       "3       Ronald Reagan  55.632184  \n",
       "4       Ronald Reagan  61.839080  \n",
       "5       Ronald Reagan  61.839080  \n",
       "6       Ronald Reagan  58.160920  \n",
       "7       Ronald Reagan  58.160920  \n",
       "8       Ronald Reagan  59.310345  \n",
       "9       Ronald Reagan  59.310345  \n",
       "10  George H. W. Bush  59.770115  \n",
       "11  George H. W. Bush  59.770115  \n",
       "12  George H. W. Bush  61.379310  \n",
       "13  George H. W. Bush  61.379310  \n",
       "14       Bill Clinton  59.310345  \n",
       "15       Bill Clinton  59.310345  \n",
       "16       Bill Clinton  46.896552  \n",
       "17       Bill Clinton  46.896552  \n",
       "18       Bill Clinton  47.586207  \n",
       "19       Bill Clinton  47.586207  \n",
       "20       Bill Clinton  48.505747  \n",
       "21       Bill Clinton  48.505747  \n",
       "22     George W. Bush  48.735632  \n",
       "23     George W. Bush  48.735632  \n",
       "24     George W. Bush  47.126437  \n",
       "25     George W. Bush  47.126437  \n",
       "26     George W. Bush  46.436782  \n",
       "27     George W. Bush  46.436782  \n",
       "28     George W. Bush  54.252874  \n",
       "29     George W. Bush  54.252874  \n",
       "30       Barack Obama  59.080460  \n",
       "31       Barack Obama  59.080460  \n",
       "32       Barack Obama  44.367816  "
      ]
     },
     "execution_count": 199,
     "metadata": {},
     "output_type": "execute_result"
    }
   ],
   "source": [
    "data_2"
   ]
  },
  {
   "cell_type": "code",
   "execution_count": 195,
   "metadata": {},
   "outputs": [
    {
     "data": {
      "text/plain": [
       "(25, 38.89586875388046)"
      ]
     },
     "execution_count": 195,
     "metadata": {},
     "output_type": "execute_result"
    },
    {
     "data": {
      "image/png": "[encoded data removed]",
      "text/plain": [
       "<Figure size 432x288 with 1 Axes>"
      ]
     },
     "metadata": {},
     "output_type": "display_data"
    }
   ],
   "source": [
    "plt.scatter(x=data_2[\"SenDem\"],y=data_2[\"Tax20\"])\n",
    "plt.plot(X, X*0.308719 + 15.863625, 'r')\n",
    "plt.xlabel('SenDem')\n",
    "plt.ylabel('Tax20')\n",
    "plt.xlim(xmin=40)\n",
    "plt.ylim(ymin=25)"
   ]
  },
  {
   "cell_type": "code",
   "execution_count": 150,
   "metadata": {},
   "outputs": [
    {
     "data": {
      "text/plain": [
       "const     31.441464\n",
       "HseDem    -0.000085\n",
       "dtype: float64"
      ]
     },
     "execution_count": 150,
     "metadata": {},
     "output_type": "execute_result"
    }
   ],
   "source": [
    "# OLS estimates of y0 y1\n",
    "Y = data_2[\"Tax20\"]\n",
    "X = data_2[\"HseDem\"]\n",
    "X = sm.add_constant(X)\n",
    "model = sm.OLS(Y,X)\n",
    "results = model.fit()\n",
    "results.params"
   ]
  },
  {
   "cell_type": "code",
   "execution_count": 235,
   "metadata": {},
   "outputs": [
    {
     "data": {
      "text/plain": [
       "(-0.012875881140204715, 0.2)"
      ]
     },
     "execution_count": 235,
     "metadata": {},
     "output_type": "execute_result"
    },
    {
     "data": {
      "image/png": "[encoded data removed]",
      "text/plain": [
       "<Figure size 432x288 with 1 Axes>"
      ]
     },
     "metadata": {},
     "output_type": "display_data"
    }
   ],
   "source": [
    "plt.scatter((data_2[\"HseDem\"]/4355),data_2[\"Tax20\"])\n",
    "plt.plot(X, X*-0.371771 + 31.441464, 'r')\n",
    "plt.xlabel('HseDem')\n",
    "plt.ylabel('Tax20')\n",
    "plt.xlim(xmax=0.2)"
   ]
  },
  {
   "cell_type": "code",
   "execution_count": 10,
   "metadata": {},
   "outputs": [
    {
     "data": {
      "text/plain": [
       "31.42120933532715"
      ]
     },
     "execution_count": 10,
     "metadata": {},
     "output_type": "execute_result"
    }
   ],
   "source": [
    "data_2[\"Tax20\"].mean()"
   ]
  },
  {
   "cell_type": "code",
   "execution_count": 15,
   "metadata": {},
   "outputs": [
    {
     "data": {
      "text/html": [
       "<div>\n",
       "<style scoped>\n",
       "    .dataframe tbody tr th:only-of-type {\n",
       "        vertical-align: middle;\n",
       "    }\n",
       "\n",
       "    .dataframe tbody tr th {\n",
       "        vertical-align: top;\n",
       "    }\n",
       "\n",
       "    .dataframe thead th {\n",
       "        text-align: right;\n",
       "    }\n",
       "</style>\n",
       "<table border=\"1\" class=\"dataframe\">\n",
       "  <thead>\n",
       "    <tr style=\"text-align: right;\">\n",
       "      <th></th>\n",
       "      <th>Year</th>\n",
       "      <th>Tax20</th>\n",
       "      <th>TaxAv</th>\n",
       "      <th>SenDem</th>\n",
       "      <th>SenRep</th>\n",
       "      <th>HseDem</th>\n",
       "      <th>HseRep</th>\n",
       "      <th>President</th>\n",
       "    </tr>\n",
       "  </thead>\n",
       "  <tbody>\n",
       "    <tr>\n",
       "      <th>0</th>\n",
       "      <td>1979</td>\n",
       "      <td>35.099998</td>\n",
       "      <td>22.000000</td>\n",
       "      <td>58</td>\n",
       "      <td>41</td>\n",
       "      <td>277</td>\n",
       "      <td>158</td>\n",
       "      <td>Jimmy Carter</td>\n",
       "    </tr>\n",
       "    <tr>\n",
       "      <th>1</th>\n",
       "      <td>1980</td>\n",
       "      <td>33.099998</td>\n",
       "      <td>22.000000</td>\n",
       "      <td>58</td>\n",
       "      <td>41</td>\n",
       "      <td>277</td>\n",
       "      <td>158</td>\n",
       "      <td>Jimmy Carter</td>\n",
       "    </tr>\n",
       "    <tr>\n",
       "      <th>2</th>\n",
       "      <td>1981</td>\n",
       "      <td>30.400000</td>\n",
       "      <td>22.200001</td>\n",
       "      <td>46</td>\n",
       "      <td>53</td>\n",
       "      <td>242</td>\n",
       "      <td>192</td>\n",
       "      <td>Ronald Reagan</td>\n",
       "    </tr>\n",
       "    <tr>\n",
       "      <th>3</th>\n",
       "      <td>1982</td>\n",
       "      <td>26.700001</td>\n",
       "      <td>20.500000</td>\n",
       "      <td>46</td>\n",
       "      <td>53</td>\n",
       "      <td>242</td>\n",
       "      <td>192</td>\n",
       "      <td>Ronald Reagan</td>\n",
       "    </tr>\n",
       "    <tr>\n",
       "      <th>4</th>\n",
       "      <td>1983</td>\n",
       "      <td>26.700001</td>\n",
       "      <td>20.200001</td>\n",
       "      <td>46</td>\n",
       "      <td>54</td>\n",
       "      <td>269</td>\n",
       "      <td>166</td>\n",
       "      <td>Ronald Reagan</td>\n",
       "    </tr>\n",
       "  </tbody>\n",
       "</table>\n",
       "</div>"
      ],
      "text/plain": [
       "   Year      Tax20      TaxAv  SenDem  SenRep  HseDem  HseRep      President\n",
       "0  1979  35.099998  22.000000      58      41     277     158   Jimmy Carter\n",
       "1  1980  33.099998  22.000000      58      41     277     158   Jimmy Carter\n",
       "2  1981  30.400000  22.200001      46      53     242     192  Ronald Reagan\n",
       "3  1982  26.700001  20.500000      46      53     242     192  Ronald Reagan\n",
       "4  1983  26.700001  20.200001      46      54     269     166  Ronald Reagan"
      ]
     },
     "execution_count": 15,
     "metadata": {},
     "output_type": "execute_result"
    }
   ],
   "source": [
    "data_2.head()"
   ]
  },
  {
   "cell_type": "code",
   "execution_count": 185,
   "metadata": {},
   "outputs": [],
   "source": [
    "data_2['HseDem_'] = ((data_2['HseDem']/435)*100)"
   ]
  },
  {
   "cell_type": "code",
   "execution_count": 186,
   "metadata": {},
   "outputs": [
    {
     "data": {
      "text/plain": [
       "const      31.441464\n",
       "HseDem_    -0.000371\n",
       "dtype: float64"
      ]
     },
     "execution_count": 186,
     "metadata": {},
     "output_type": "execute_result"
    }
   ],
   "source": [
    "# OLS estimates of new y0 y1\n",
    "Y = data_2[\"Tax20\"]\n",
    "X = data_2[\"HseDem_\"]\n",
    "X = sm.add_constant(X)\n",
    "model = sm.OLS(Y,X)\n",
    "results = model.fit()\n",
    "results.params"
   ]
  },
  {
   "cell_type": "code",
   "execution_count": 189,
   "metadata": {},
   "outputs": [
    {
     "data": {
      "text/plain": [
       "Text(0.5,1,'X = number of democrats')"
      ]
     },
     "execution_count": 189,
     "metadata": {},
     "output_type": "execute_result"
    },
    {
     "data": {
      "image/png": "[encoded data removed]",
      "text/plain": [
       "<Figure size 720x360 with 2 Axes>"
      ]
     },
     "metadata": {},
     "output_type": "display_data"
    }
   ],
   "source": [
    "f, ax = plt.subplots(1,2)\n",
    "f.set_figheight(5)\n",
    "f.set_figwidth(10)\n",
    "ax[0].scatter(data_2[\"HseDem_\"],data_2[\"Tax20\"])\n",
    "ax[0].plot(data_2[\"HseDem_\"], data_2[\"HseDem_\"]*-0.000371 + 31.441464, 'r')\n",
    "ax[0].set_title('X = percent of democrats')\n",
    "ax[1].scatter(data_2[\"HseDem\"],data_2[\"Tax20\"])\n",
    "ax[1].plot(data_2[\"HseDem\"], data_2[\"HseDem\"]*-0.000085 + 31.441464, 'r')\n",
    "ax[1].set_title('X = number of democrats')"
   ]
  },
  {
   "cell_type": "code",
   "execution_count": 79,
   "metadata": {},
   "outputs": [],
   "source": [
    "data_pre = data_2.head(16)\n",
    "data_post = data_2.tail(17)"
   ]
  },
  {
   "cell_type": "code",
   "execution_count": 83,
   "metadata": {},
   "outputs": [
    {
     "data": {
      "text/plain": [
       "0.90449662231336"
      ]
     },
     "execution_count": 83,
     "metadata": {},
     "output_type": "execute_result"
    }
   ],
   "source": [
    "np.corrcoef(data_pre[\"SenDem\"], data_pre[\"Tax20\"])[0, 1]"
   ]
  },
  {
   "cell_type": "code",
   "execution_count": 84,
   "metadata": {},
   "outputs": [
    {
     "data": {
      "text/plain": [
       "-0.4153188096752469"
      ]
     },
     "execution_count": 84,
     "metadata": {},
     "output_type": "execute_result"
    }
   ],
   "source": [
    "np.corrcoef(data_post[\"SenDem\"], data_post[\"Tax20\"])[0, 1]"
   ]
  },
  {
   "cell_type": "code",
   "execution_count": 191,
   "metadata": {},
   "outputs": [
    {
     "data": {
      "text/plain": [
       "Text(0,0.5,'Tax20')"
      ]
     },
     "execution_count": 191,
     "metadata": {},
     "output_type": "execute_result"
    },
    {
     "data": {
      "image/png": "[encoded data removed]",
      "text/plain": [
       "<Figure size 864x864 with 4 Axes>"
      ]
     },
     "metadata": {},
     "output_type": "display_data"
    }
   ],
   "source": [
    "f, ax = plt.subplots(2,2)\n",
    "f.set_figheight(12)\n",
    "f.set_figwidth(12)\n",
    "ax[0,0].scatter(data_pre['Year'],data_pre['SenDem'])\n",
    "ax[0,0].scatter(data_post['Year'],data_post['SenDem'],c='orange')\n",
    "ax[0,0].axvline(x=1994,c='r')\n",
    "ax[0,0].set_title('SenDem against year')\n",
    "ax[0,0].set_xlabel('Year')\n",
    "ax[0,0].set_ylabel('SenDem')\n",
    "ax[0,1].scatter(data_pre['Year'],data_pre['Tax20'])\n",
    "ax[0,1].scatter(data_post['Year'],data_post['Tax20'],c='orange')\n",
    "ax[0,1].axvline(x=1994,c='r')\n",
    "ax[0,1].set_title('Tax20 against year')\n",
    "ax[0,1].set_xlabel('Year')\n",
    "ax[0,1].set_ylabel('Tax20')\n",
    "ax[1,0].scatter(data_pre[\"SenDem\"],data_pre[\"Tax20\"])\n",
    "ax[1,0].plot(X, X*0.744737 - 7.486178, 'r')\n",
    "ax[1,0].set_xlim(xmin=40)\n",
    "ax[1,0].set_ylim(ymin=20)\n",
    "ax[1,0].set_title('Pre-1994 rel. b/w Sendem & Tax20 (p=0.90)')\n",
    "ax[1,0].set_xlabel('SenDem')\n",
    "ax[1,0].set_ylabel('Tax20')\n",
    "ax[1,1].scatter(data_post[\"SenDem\"],data_post[\"Tax20\"],c='orange')\n",
    "ax[1,1].plot(X, X*-0.242519 + 42.981955, 'r')\n",
    "ax[1,1].set_xlim(xmin=40)\n",
    "ax[1,1].set_ylim(ymax=36)\n",
    "ax[1,1].set_title('Post-1994 rel. b/w Sendem & Tax20 (p=-0.42)')\n",
    "ax[1,1].set_xlabel('SenDem')\n",
    "ax[1,1].set_ylabel('Tax20')"
   ]
  },
  {
   "cell_type": "code",
   "execution_count": 142,
   "metadata": {},
   "outputs": [
    {
     "data": {
      "text/plain": [
       "0.46092989943511037"
      ]
     },
     "execution_count": 142,
     "metadata": {},
     "output_type": "execute_result"
    }
   ],
   "source": [
    "np.corrcoef(data_2[\"Tax20\"],data_2[\"SenDem\"])[0, 1]"
   ]
  },
  {
   "cell_type": "code",
   "execution_count": 147,
   "metadata": {},
   "outputs": [
    {
     "data": {
      "text/plain": [
       "<matplotlib.collections.PathCollection at 0x1c22e46550>"
      ]
     },
     "execution_count": 147,
     "metadata": {},
     "output_type": "execute_result"
    },
    {
     "data": {
      "image/png": "[encoded data removed]",
      "text/plain": [
       "<Figure size 432x288 with 1 Axes>"
      ]
     },
     "metadata": {},
     "output_type": "display_data"
    }
   ],
   "source": [
    "plt.scatter(x=data_2['SenDem'],y=data_2['TaxAv'])"
   ]
  },
  {
   "cell_type": "code",
   "execution_count": null,
   "metadata": {},
   "outputs": [],
   "source": []
  }
 ],
 "metadata": {
  "kernelspec": {
   "display_name": "Python 3",
   "language": "python",
   "name": "python3"
  },
  "language_info": {
   "codemirror_mode": {
    "name": "ipython",
    "version": 3
   },
   "file_extension": ".py",
   "mimetype": "text/x-python",
   "name": "python",
   "nbconvert_exporter": "python",
   "pygments_lexer": "ipython3",
   "version": "3.6.5"
  }
 },
 "nbformat": 4,
 "nbformat_minor": 2
}
